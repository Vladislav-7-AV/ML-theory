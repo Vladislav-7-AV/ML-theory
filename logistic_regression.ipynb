{
  "nbformat": 4,
  "nbformat_minor": 0,
  "metadata": {
    "colab": {
      "provenance": [],
      "toc_visible": true,
      "include_colab_link": true
    },
    "kernelspec": {
      "name": "python3",
      "display_name": "Python 3"
    },
    "language_info": {
      "name": "python"
    }
  },
  "cells": [
    {
      "cell_type": "markdown",
      "metadata": {
        "id": "view-in-github",
        "colab_type": "text"
      },
      "source": [
        "<a href=\"https://colab.research.google.com/github/Vladislav-7-AV/ML-theory/blob/main/logistic_regression.ipynb\" target=\"_parent\"><img src=\"https://colab.research.google.com/assets/colab-badge.svg\" alt=\"Open In Colab\"/></a>"
      ]
    },
    {
      "cell_type": "markdown",
      "source": [
        "## Логистическая регрессия"
      ],
      "metadata": {
        "id": "Faqf8pG8itot"
      }
    },
    {
      "cell_type": "markdown",
      "source": [
        "# План занятия\n",
        "\n",
        "1. Перейдем от линейной регрессии к логистической регрессии\n",
        "1. Осознаем, что такое правдоподобие\n",
        "2. Выведем из правдоподобия функцию потерь logloss\n",
        "3. Построим с нуля логистическую регрессию\n",
        "4. Пообучаем логистическую регрессию из sklearn\n",
        "5. Визуализируем предсказания логистической регрессии"
      ],
      "metadata": {
        "id": "KTRb5RIKU74d"
      }
    },
    {
      "cell_type": "markdown",
      "source": [
        "# Что нужно знать перед занятием\n",
        "\n",
        "\n",
        "1. Логистическая регрессия. Теория https://youtu.be/9BoVCdedvW8\n",
        "2. Линейная регрессия https://youtu.be/KJA9A1q9l7E\n"
      ],
      "metadata": {
        "id": "fSJfcrfvU5Bd"
      }
    },
    {
      "cell_type": "markdown",
      "source": [
        "# Поддержка\n",
        "\n",
        "✏️ https://boosty.to/machine_learrrning"
      ],
      "metadata": {
        "id": "wjKQ-N5_isQE"
      }
    },
    {
      "cell_type": "markdown",
      "source": [
        "\n",
        "<img src='https://drive.google.com/uc?id=1EYkU2bG7qko-8gayaB5azZptDn3fgFu_'>\n",
        "            "
      ],
      "metadata": {
        "id": "2shF3Ytzry5U"
      }
    },
    {
      "cell_type": "markdown",
      "source": [
        "✏️ https://vk.com/machine_learrrning\n",
        "\n",
        "\n",
        "\n",
        "<img src='https://drive.google.com/uc?id=1h7uCrnRkzT8x2E-VZFQ_Uh5lVuswbvRW'>\n",
        "            "
      ],
      "metadata": {
        "id": "N_1igaarrxF1"
      }
    },
    {
      "cell_type": "markdown",
      "source": [
        "Вспомним **Линейную регрессию** — модель зависимости переменной от одной или нескольких других переменных (факторов, регрессоров, независимых переменных) с линейной функцией зависимости.\n",
        "\n",
        "Ниже на графике представлена линейная регрессия переменной $y$ от переменной $x$.\n",
        "\n",
        "Есть коэффициент наклона $a$ и есть коэффициент сдвига $b$.\n",
        "\n",
        "Эти значения могут изменяться как угодно."
      ],
      "metadata": {
        "id": "KS-4su3tladF"
      }
    },
    {
      "cell_type": "code",
      "source": [
        "import matplotlib.pyplot as plt\n",
        "import numpy as np\n",
        "\n",
        "x = np.arange(-6, 6)\n",
        "a = 2\n",
        "b = 1\n",
        "\n",
        "y = a * x + b\n",
        "plt.plot(x, y, label=f'y = {a}x + {b}')\n",
        "plt.plot([0], [b], 'r*', markersize=10)\n",
        "plt.ylabel('y');plt.xlabel('x')\n",
        "plt.ylim(-10, 10);plt.xlim(-5, 5)\n",
        "plt.grid()\n",
        "plt.legend();"
      ],
      "metadata": {
        "colab": {
          "base_uri": "https://localhost:8080/",
          "height": 283
        },
        "id": "monS6MN5k2I0",
        "outputId": "1fb2088e-083c-4a17-8db4-e5b49f5f69c0"
      },
      "execution_count": null,
      "outputs": [
        {
          "output_type": "display_data",
          "data": {
            "text/plain": [
              "<Figure size 432x288 with 1 Axes>"
            ],
            "image/png": "[encoded data removed]"
          },
          "metadata": {
            "needs_background": "light"
          }
        }
      ]
    },
    {
      "cell_type": "markdown",
      "metadata": {
        "id": "VbgNr2MC7c9H"
      },
      "source": [
        "Возьмем и сами нагенирируем себе данные и обучим на них линейную модель."
      ]
    },
    {
      "cell_type": "code",
      "source": [
        "from sklearn.datasets import make_blobs\n",
        "\n",
        "X, y = make_blobs(n_samples=50, n_features=2, random_state=12, centers=2)\n",
        "\n",
        "display(X, y)"
      ],
      "metadata": {
        "colab": {
          "base_uri": "https://localhost:8080/",
          "height": 990
        },
        "id": "px8DWvILiEae",
        "outputId": "4136ee94-e909-4ec2-af5e-91fd02e3c039"
      },
      "execution_count": null,
      "outputs": [
        {
          "output_type": "display_data",
          "data": {
            "text/plain": [
              "array([[ -5.2000508 ,   1.03101087],\n",
              "       [ -6.26268518,   1.70399904],\n",
              "       [ -6.09933951,  -0.51965652],\n",
              "       [ -2.90487898,  -0.32621368],\n",
              "       [ -7.51456607,   5.27345092],\n",
              "       [ -7.91394699,   4.08713764],\n",
              "       [ -4.93302704,   0.93256045],\n",
              "       [ -6.27598204,   5.3283266 ],\n",
              "       [ -3.73275694,   0.62337287],\n",
              "       [ -6.88132681,   4.12304857],\n",
              "       [ -5.30551643,   0.07148875],\n",
              "       [ -8.59849966,   3.01289968],\n",
              "       [ -7.2543384 ,   4.21572565],\n",
              "       [ -3.2624657 ,   2.31125078],\n",
              "       [ -3.79012431,   1.03243209],\n",
              "       [ -6.41487085,   4.93984011],\n",
              "       [ -6.16360032,   3.26627259],\n",
              "       [ -7.94627336,   6.01079038],\n",
              "       [ -3.86173157,  -0.77157158],\n",
              "       [ -7.44514747,   4.76178476],\n",
              "       [ -6.7017672 ,   4.41663513],\n",
              "       [ -5.58091181,   5.11965922],\n",
              "       [ -6.82539091,   0.82134757],\n",
              "       [ -6.91161607,   4.68076626],\n",
              "       [ -7.03166309,   7.04281172],\n",
              "       [ -4.83896768,   1.18681003],\n",
              "       [ -5.42257839,   1.47741832],\n",
              "       [ -7.48862421,   4.69513161],\n",
              "       [ -5.90422768,   3.88712478],\n",
              "       [-10.06415967,   5.33612982],\n",
              "       [ -6.07308892,  -1.01486505],\n",
              "       [ -9.1352781 ,   4.15356315],\n",
              "       [ -5.27018096,   0.87270838],\n",
              "       [ -4.68317687,   0.53145045],\n",
              "       [ -5.13157943,  -0.58443565],\n",
              "       [ -4.8171489 ,   1.35259397],\n",
              "       [ -6.68425271,   5.66860588],\n",
              "       [ -4.46130866,  -0.29438863],\n",
              "       [ -5.82078703,   3.58582513],\n",
              "       [ -4.573912  ,  -0.04147572],\n",
              "       [ -3.32597193,  -1.01290846],\n",
              "       [ -5.57438678,   4.67884414],\n",
              "       [ -8.06495587,   6.91533817],\n",
              "       [ -5.89995846,  -0.33477378],\n",
              "       [ -4.71776515,   0.59474441],\n",
              "       [ -4.17763932,   0.89750733],\n",
              "       [ -7.17064723,   4.874246  ],\n",
              "       [ -7.72372503,   7.67281333],\n",
              "       [ -8.07110339,   2.58766045],\n",
              "       [ -5.19509463,   0.4734256 ]])"
            ]
          },
          "metadata": {}
        },
        {
          "output_type": "display_data",
          "data": {
            "text/plain": [
              "array([1, 1, 1, 1, 0, 0, 1, 0, 1, 0, 1, 0, 0, 1, 1, 0, 0, 0, 1, 0, 0, 0,\n",
              "       1, 0, 0, 1, 1, 0, 0, 0, 1, 0, 1, 1, 1, 1, 0, 1, 0, 1, 1, 0, 0, 1,\n",
              "       1, 1, 0, 0, 0, 1])"
            ]
          },
          "metadata": {}
        }
      ]
    },
    {
      "cell_type": "code",
      "source": [
        "from sklearn.preprocessing import StandardScaler\n",
        "\n",
        "scaler = StandardScaler()\n",
        "X = scaler.fit_transform(X)\n",
        "X.mean(axis=0), X.std(axis=0)"
      ],
      "metadata": {
        "colab": {
          "base_uri": "https://localhost:8080/"
        },
        "id": "XRl_QRpLmOuR",
        "outputId": "6d3d6e0e-7604-4513-bbcb-eae1b2087a28"
      },
      "execution_count": null,
      "outputs": [
        {
          "output_type": "execute_result",
          "data": {
            "text/plain": [
              "(array([-7.77156117e-17, -2.22044605e-16]), array([1., 1.]))"
            ]
          },
          "metadata": {},
          "execution_count": 3
        }
      ]
    },
    {
      "cell_type": "code",
      "source": [
        "import matplotlib.pyplot as plt\n",
        "import numpy as np\n",
        "\n",
        "x = np.arange(-3, 4)\n",
        "a = 1\n",
        "b = 0\n",
        "\n",
        "plt.scatter(X[:, 0], X[:, 1], c=y)\n",
        "plt.plot(x, a * x + b, label=f'y = {a}x + {b}')\n",
        "plt.ylabel('y');plt.xlabel('x')\n",
        "plt.ylim(-3, 3);plt.xlim(-3, 3)\n",
        "plt.grid()\n",
        "plt.legend();"
      ],
      "metadata": {
        "colab": {
          "base_uri": "https://localhost:8080/",
          "height": 283
        },
        "id": "fGwQbx6hj7Fp",
        "outputId": "9d2339a2-6a0b-42ed-8b17-d354ff20073d"
      },
      "execution_count": null,
      "outputs": [
        {
          "output_type": "display_data",
          "data": {
            "text/plain": [
              "<Figure size 432x288 with 1 Axes>"
            ],
            "image/png": "[encoded data removed]"
          },
          "metadata": {
            "needs_background": "light"
          }
        }
      ]
    },
    {
      "cell_type": "markdown",
      "source": [
        "# Одномерная логистическая регрессия"
      ],
      "metadata": {
        "id": "wuQyanTXsg4P"
      }
    },
    {
      "cell_type": "markdown",
      "metadata": {
        "id": "RmcjY5KeviKG"
      },
      "source": [
        "## LogisticRegression"
      ]
    },
    {
      "cell_type": "markdown",
      "source": [
        "### Обучение LogisticRegression из sklearn"
      ],
      "metadata": {
        "id": "2MnA-YZHBxzL"
      }
    },
    {
      "cell_type": "code",
      "source": [
        "from sklearn.datasets import make_classification\n",
        "\n",
        "X, y = make_classification(n_samples=25, n_features=1, n_informative=1,\n",
        "                           n_redundant=0, random_state=11, n_clusters_per_class=1,\n",
        "                           class_sep=0.4)\n",
        "\n",
        "display(X, y)"
      ],
      "metadata": {
        "colab": {
          "base_uri": "https://localhost:8080/",
          "height": 513
        },
        "outputId": "8cb180a0-3197-4318-9d72-4d402c051ddd",
        "id": "hUyglyINrgaZ"
      },
      "execution_count": null,
      "outputs": [
        {
          "output_type": "display_data",
          "data": {
            "text/plain": [
              "array([[-0.86305361],\n",
              "       [-1.4372011 ],\n",
              "       [ 0.19592225],\n",
              "       [-0.87164985],\n",
              "       [ 0.00982831],\n",
              "       [ 1.30282593],\n",
              "       [ 0.16134434],\n",
              "       [-0.9223264 ],\n",
              "       [-0.10173176],\n",
              "       [ 0.41006497],\n",
              "       [ 0.27129997],\n",
              "       [-0.71111212],\n",
              "       [-2.98259876],\n",
              "       [-0.09300387],\n",
              "       [ 0.82285659],\n",
              "       [ 0.16493473],\n",
              "       [-0.40806382],\n",
              "       [ 0.62136283],\n",
              "       [ 0.76258897],\n",
              "       [-0.11001122],\n",
              "       [-1.26261842],\n",
              "       [ 0.04513441],\n",
              "       [ 0.50026937],\n",
              "       [-0.6784482 ],\n",
              "       [ 0.2182344 ]])"
            ]
          },
          "metadata": {}
        },
        {
          "output_type": "display_data",
          "data": {
            "text/plain": [
              "array([0, 0, 1, 0, 0, 0, 1, 0, 1, 1, 0, 0, 0, 0, 1, 1, 0, 1, 1, 1, 0, 1,\n",
              "       1, 0, 1])"
            ]
          },
          "metadata": {}
        }
      ]
    },
    {
      "cell_type": "code",
      "source": [
        "X.mean(axis=0), X.std(axis=0)"
      ],
      "metadata": {
        "colab": {
          "base_uri": "https://localhost:8080/"
        },
        "id": "9lgV9tzW1ItJ",
        "outputId": "eff0ff60-d590-4a35-9a91-5906d4090523"
      },
      "execution_count": null,
      "outputs": [
        {
          "output_type": "execute_result",
          "data": {
            "text/plain": [
              "(array([-0.19820608]), array([0.87333629]))"
            ]
          },
          "metadata": {},
          "execution_count": 6
        }
      ]
    },
    {
      "cell_type": "code",
      "source": [
        "scaler = StandardScaler()\n",
        "X = scaler.fit_transform(X)\n",
        "X.mean(axis=0), X.std(axis=0)"
      ],
      "metadata": {
        "colab": {
          "base_uri": "https://localhost:8080/"
        },
        "id": "f5CwwIhZt5b4",
        "outputId": "a3d13d21-8725-4e3b-b9bd-28474c68640a"
      },
      "execution_count": null,
      "outputs": [
        {
          "output_type": "execute_result",
          "data": {
            "text/plain": [
              "(array([1.77635684e-17]), array([1.]))"
            ]
          },
          "metadata": {},
          "execution_count": 7
        }
      ]
    },
    {
      "cell_type": "code",
      "source": [
        "plt.figure(figsize=(10, 2))\n",
        "plt.scatter(X, np.zeros(X.shape[0]), c=y, s=100, edgecolors='black')\n",
        "plt.plot([-0.15, -0.15], [-1, 1])\n",
        "plt.ylabel('');plt.xlabel('x')\n",
        "plt.yticks(np.arange(0, 1), [''])\n",
        "plt.ylim(-1, 1);plt.xlim(-3.5, 2);"
      ],
      "metadata": {
        "colab": {
          "base_uri": "https://localhost:8080/",
          "height": 171
        },
        "outputId": "d37475e8-a0a4-46eb-ac6c-3eb350a79500",
        "id": "bVGtn6iDrgab"
      },
      "execution_count": null,
      "outputs": [
        {
          "output_type": "display_data",
          "data": {
            "text/plain": [
              "<Figure size 720x144 with 1 Axes>"
            ],
            "image/png": "[encoded data removed]"
          },
          "metadata": {
            "needs_background": "light"
          }
        }
      ]
    },
    {
      "cell_type": "markdown",
      "source": [
        "y = a* x + b<br>\n",
        "**a - ? b - ?**"
      ],
      "metadata": {
        "id": "xVY5GErAuj8v"
      }
    },
    {
      "cell_type": "code",
      "source": [
        "plt.figure(figsize=(10, 2))\n",
        "plt.scatter(X, np.zeros(X.shape[0]), c=y, s=100, edgecolors='black')\n",
        "\n",
        "x = np.linspace(-3, 3)\n",
        "plt.plot(x, 3*x + 0)\n",
        "plt.ylabel('');plt.xlabel('x')\n",
        "plt.yticks(np.arange(0, 1), [''])\n",
        "plt.ylim(-1, 1);plt.xlim(-3.5, 2);"
      ],
      "metadata": {
        "colab": {
          "base_uri": "https://localhost:8080/",
          "height": 171
        },
        "id": "FN8mpr0uuuPu",
        "outputId": "21c6112b-cfe2-4cd0-f5cf-2d0c22a1a777"
      },
      "execution_count": null,
      "outputs": [
        {
          "output_type": "display_data",
          "data": {
            "text/plain": [
              "<Figure size 720x144 with 1 Axes>"
            ],
            "image/png": "[encoded data removed]"
          },
          "metadata": {
            "needs_background": "light"
          }
        }
      ]
    },
    {
      "cell_type": "markdown",
      "source": [
        "Возьмем модель `LogisticRegression` из `sklearn` из модуля `linear_model`."
      ],
      "metadata": {
        "id": "uJFYdPE1_TGm"
      }
    },
    {
      "cell_type": "code",
      "source": [
        "from sklearn.linear_model import LogisticRegression\n",
        "\n",
        "model = LogisticRegression()\n",
        "model"
      ],
      "metadata": {
        "colab": {
          "base_uri": "https://localhost:8080/"
        },
        "id": "LsrXG6K5_aLV",
        "outputId": "0486daa4-1e87-4be5-b180-22070f19e40a"
      },
      "execution_count": null,
      "outputs": [
        {
          "output_type": "execute_result",
          "data": {
            "text/plain": [
              "LogisticRegression()"
            ]
          },
          "metadata": {},
          "execution_count": 10
        }
      ]
    },
    {
      "cell_type": "code",
      "source": [
        "model.fit(X, y)"
      ],
      "metadata": {
        "colab": {
          "base_uri": "https://localhost:8080/"
        },
        "id": "h8weuRBk_mHJ",
        "outputId": "48a9a017-11d1-464c-df78-24d2060c911f"
      },
      "execution_count": null,
      "outputs": [
        {
          "output_type": "execute_result",
          "data": {
            "text/plain": [
              "LogisticRegression()"
            ]
          },
          "metadata": {},
          "execution_count": 11
        }
      ]
    },
    {
      "cell_type": "code",
      "source": [
        "model.coef_, model.intercept_"
      ],
      "metadata": {
        "colab": {
          "base_uri": "https://localhost:8080/"
        },
        "id": "8RoiC6eN_-8Z",
        "outputId": "c323d031-6cb8-4d03-8847-a00010ac9476"
      },
      "execution_count": null,
      "outputs": [
        {
          "output_type": "execute_result",
          "data": {
            "text/plain": [
              "(array([[1.34494091]]), array([-0.19801197]))"
            ]
          },
          "metadata": {},
          "execution_count": 12
        }
      ]
    },
    {
      "cell_type": "code",
      "source": [
        "model_a = model.coef_[0]\n",
        "model_b = model.intercept_"
      ],
      "metadata": {
        "id": "UFJn6GsFBaD7"
      },
      "execution_count": null,
      "outputs": []
    },
    {
      "cell_type": "code",
      "source": [
        "model_y_sk = model_a * x + model_b\n",
        "\n",
        "plt.figure(figsize=(10, 2))\n",
        "plt.plot(x, model_y_sk, linewidth=2, c='r')\n",
        "plt.scatter(X, np.zeros(X.shape[0]), c=y, s=100, edgecolors='black')\n",
        "plt.ylabel('');plt.xlabel('x')\n",
        "plt.yticks(np.arange(0, 1), [''])\n",
        "plt.ylim(-1, 1);plt.xlim(-3.5, 2);"
      ],
      "metadata": {
        "colab": {
          "base_uri": "https://localhost:8080/",
          "height": 171
        },
        "id": "RuEUmXzTBPDE",
        "outputId": "99d2676f-b2f7-4db6-8b44-dc4635e8fe05"
      },
      "execution_count": null,
      "outputs": [
        {
          "output_type": "display_data",
          "data": {
            "text/plain": [
              "<Figure size 720x144 with 1 Axes>"
            ],
            "image/png": "[encoded data removed]"
          },
          "metadata": {
            "needs_background": "light"
          }
        }
      ]
    },
    {
      "cell_type": "code",
      "source": [
        "model.score(X, y)"
      ],
      "metadata": {
        "colab": {
          "base_uri": "https://localhost:8080/"
        },
        "id": "adcHL6QbtoaM",
        "outputId": "694c16de-f6d8-4f5c-e2ed-5f18dc5c472d"
      },
      "execution_count": null,
      "outputs": [
        {
          "output_type": "execute_result",
          "data": {
            "text/plain": [
              "0.8"
            ]
          },
          "metadata": {},
          "execution_count": 15
        }
      ]
    },
    {
      "cell_type": "markdown",
      "source": [
        "Чтобы теперь сделать предсказания этой моделью достаточно вызвать метод `predict` и передать в него данные."
      ],
      "metadata": {
        "id": "0bPamEKfa5rK"
      }
    },
    {
      "cell_type": "code",
      "source": [
        "y_pred_cl = model.predict(X)\n",
        "y_pred_cl[:5]"
      ],
      "metadata": {
        "colab": {
          "base_uri": "https://localhost:8080/"
        },
        "id": "86a7D1DLbIzm",
        "outputId": "a85e2b0f-41d7-455e-a854-8fe5e7f84b91"
      },
      "execution_count": null,
      "outputs": [
        {
          "output_type": "execute_result",
          "data": {
            "text/plain": [
              "array([0, 0, 1, 0, 1])"
            ]
          },
          "metadata": {},
          "execution_count": 16
        }
      ]
    },
    {
      "cell_type": "markdown",
      "source": [
        "Или же можем можем сделать точно такое же предсказание, если возьмем коэффициент наклона и умножим на значение признака и прибавим к этому коэффициент сдвига."
      ],
      "metadata": {
        "id": "WPgV0jDvbTci"
      }
    },
    {
      "cell_type": "code",
      "source": [
        "y_pred = model_a * X + model_b\n",
        "y_pred[:5]"
      ],
      "metadata": {
        "colab": {
          "base_uri": "https://localhost:8080/"
        },
        "id": "ssT9MavubmJZ",
        "outputId": "a6bbbdfd-a740-43f4-9069-1028cecd15f2"
      },
      "execution_count": null,
      "outputs": [
        {
          "output_type": "execute_result",
          "data": {
            "text/plain": [
              "array([[-1.22187946],\n",
              "       [-2.1060686 ],\n",
              "       [ 0.40894703],\n",
              "       [-1.23511771],\n",
              "       [ 0.12236172]])"
            ]
          },
          "metadata": {},
          "execution_count": 17
        }
      ]
    },
    {
      "cell_type": "code",
      "source": [
        "y_pred_cl = model.predict(X)\n",
        "y_pred_cl[:5]"
      ],
      "metadata": {
        "colab": {
          "base_uri": "https://localhost:8080/"
        },
        "id": "WYjpihJo1o8b",
        "outputId": "76587402-b592-48e8-dd6d-f99580dea6a1"
      },
      "execution_count": null,
      "outputs": [
        {
          "output_type": "execute_result",
          "data": {
            "text/plain": [
              "array([0, 0, 1, 0, 1])"
            ]
          },
          "metadata": {},
          "execution_count": 18
        }
      ]
    },
    {
      "cell_type": "code",
      "source": [
        "plt.figure(figsize=(10, 2))\n",
        "plt.scatter(X, y_pred_cl, c=y, s=100, edgecolors='black')\n",
        "plt.ylabel('');plt.xlabel('x')\n",
        "plt.yticks(np.arange(0, 2), ['0 class', '1 class'])\n",
        "plt.ylim(-0.1, 1.1);plt.xlim(-3.5, 2)\n",
        "plt.title('Y_pred_class');"
      ],
      "metadata": {
        "colab": {
          "base_uri": "https://localhost:8080/",
          "height": 187
        },
        "id": "OBICjs_qvlrW",
        "outputId": "5c67c61a-cd6a-4e10-d828-a8071bedeb56"
      },
      "execution_count": null,
      "outputs": [
        {
          "output_type": "display_data",
          "data": {
            "text/plain": [
              "<Figure size 720x144 with 1 Axes>"
            ],
            "image/png": "[encoded data removed]"
          },
          "metadata": {
            "needs_background": "light"
          }
        }
      ]
    },
    {
      "cell_type": "code",
      "source": [
        "model_y_sk = model_a * x + model_b\n",
        "\n",
        "plt.figure(figsize=(10, 2))\n",
        "plt.plot(x, model_y_sk, linewidth=2, c='r')\n",
        "plt.scatter(X, np.zeros(X.shape[0]), c=y, s=100)\n",
        "plt.ylabel('pred');plt.xlabel('x')\n",
        "plt.title('Y_pred');"
      ],
      "metadata": {
        "colab": {
          "base_uri": "https://localhost:8080/",
          "height": 187
        },
        "id": "0RVENPN_yepv",
        "outputId": "345093b2-702c-42a8-f20f-f2a0e028f418"
      },
      "execution_count": null,
      "outputs": [
        {
          "output_type": "display_data",
          "data": {
            "text/plain": [
              "<Figure size 720x144 with 1 Axes>"
            ],
            "image/png": "[encoded data removed]"
          },
          "metadata": {
            "needs_background": "light"
          }
        }
      ]
    },
    {
      "cell_type": "code",
      "source": [
        "pred_proba = model.predict_proba(X)\n",
        "pred_proba[:5]"
      ],
      "metadata": {
        "colab": {
          "base_uri": "https://localhost:8080/"
        },
        "id": "4Jy9Xm-nyzOs",
        "outputId": "bed521a5-ed86-4b96-d44c-09ffebf51ad5"
      },
      "execution_count": null,
      "outputs": [
        {
          "output_type": "execute_result",
          "data": {
            "text/plain": [
              "array([[0.77239413, 0.22760587],\n",
              "       [0.89149162, 0.10850838],\n",
              "       [0.39916463, 0.60083537],\n",
              "       [0.77471304, 0.22528696],\n",
              "       [0.46944768, 0.53055232]])"
            ]
          },
          "metadata": {},
          "execution_count": 23
        }
      ]
    },
    {
      "cell_type": "code",
      "source": [
        "pred_proba = pred_proba[:, 1]\n",
        "pred_proba[:5]"
      ],
      "metadata": {
        "colab": {
          "base_uri": "https://localhost:8080/"
        },
        "id": "zkkm5yuiy3gb",
        "outputId": "a7b38e3e-4640-4dfe-a4cb-4706f999f201"
      },
      "execution_count": null,
      "outputs": [
        {
          "output_type": "execute_result",
          "data": {
            "text/plain": [
              "array([0.22760587, 0.10850838, 0.60083537, 0.22528696, 0.53055232])"
            ]
          },
          "metadata": {},
          "execution_count": 24
        }
      ]
    },
    {
      "cell_type": "code",
      "source": [
        "plt.figure(figsize=(10, 2))\n",
        "plt.scatter(X, pred_proba, c=y, s=100)\n",
        "plt.ylabel('pred');plt.xlabel('x')\n",
        "plt.title('proba');"
      ],
      "metadata": {
        "colab": {
          "base_uri": "https://localhost:8080/",
          "height": 187
        },
        "id": "CmjiCbsSytYt",
        "outputId": "9c25ffc2-8aad-4fc0-aa37-cabf745235a0"
      },
      "execution_count": null,
      "outputs": [
        {
          "output_type": "display_data",
          "data": {
            "text/plain": [
              "<Figure size 720x144 with 1 Axes>"
            ],
            "image/png": "[encoded data removed]"
          },
          "metadata": {
            "needs_background": "light"
          }
        }
      ]
    },
    {
      "cell_type": "code",
      "source": [
        "def sigmoid(x):\n",
        "    return 1 / (1 + np.exp(-x))"
      ],
      "metadata": {
        "id": "ZgBYqLU632kI"
      },
      "execution_count": null,
      "outputs": []
    },
    {
      "cell_type": "code",
      "source": [
        "x = np.linspace(-3, 3, num=100)\n",
        "model_y_sk = model_a * x + model_b\n",
        "\n",
        "plt.figure(figsize=(10, 2))\n",
        "plt.plot(x, sigmoid(model_y_sk), linewidth=2, c='r')\n",
        "plt.scatter(X, y_pred_cl, c=y, s=100, edgecolors='black')\n",
        "plt.ylabel('pred');plt.xlabel('x')\n",
        "plt.yticks(np.arange(0, 2), ['0 class', '1 class'])\n",
        "plt.ylim(-0.1, 1.1);plt.xlim(-3.5, 2)\n",
        "plt.title('Sigmoid');"
      ],
      "metadata": {
        "colab": {
          "base_uri": "https://localhost:8080/",
          "height": 187
        },
        "id": "bzN7PIqT3zq6",
        "outputId": "f2663383-9a05-474b-c7e1-3ea2c69b028e"
      },
      "execution_count": null,
      "outputs": [
        {
          "output_type": "display_data",
          "data": {
            "text/plain": [
              "<Figure size 720x144 with 1 Axes>"
            ],
            "image/png": "[encoded data removed]"
          },
          "metadata": {
            "needs_background": "light"
          }
        }
      ]
    },
    {
      "cell_type": "markdown",
      "source": [
        "**Logistic Regression = Linear Regression + Sigmoid**"
      ],
      "metadata": {
        "id": "MC-Ir8-W4T6g"
      }
    },
    {
      "cell_type": "markdown",
      "source": [
        "### Сравнение моделей"
      ],
      "metadata": {
        "id": "uKc4lNMiHf8b"
      }
    },
    {
      "cell_type": "code",
      "source": [
        "a = 3\n",
        "b = -2\n",
        "model_y = a * x + b\n",
        "\n",
        "\n",
        "plt.figure(figsize=(10, 2))\n",
        "plt.plot(x, model_y, linewidth=2, c='r')\n",
        "plt.scatter(X, np.zeros(X.shape[0]), c=y, s=100, edgecolors='black')\n",
        "plt.ylabel('');plt.xlabel('x')\n",
        "plt.yticks(np.arange(0, 1), [''])\n",
        "plt.ylim(-1, 1);plt.xlim(-3.5, 2);"
      ],
      "metadata": {
        "colab": {
          "base_uri": "https://localhost:8080/",
          "height": 171
        },
        "id": "ABeC5cTv4Xx7",
        "outputId": "e1fc0e63-c7e2-4b40-cf66-262f51d8a536"
      },
      "execution_count": null,
      "outputs": [
        {
          "output_type": "display_data",
          "data": {
            "text/plain": [
              "<Figure size 720x144 with 1 Axes>"
            ],
            "image/png": "[encoded data removed]"
          },
          "metadata": {
            "needs_background": "light"
          }
        }
      ]
    },
    {
      "cell_type": "code",
      "source": [
        "plt.figure(figsize=(10, 2))\n",
        "plt.plot(x, sigmoid(model_y_sk), linewidth=2, label='sklearn')\n",
        "plt.plot(x, sigmoid(model_y), linewidth=2, label='my')\n",
        "plt.scatter(X, y_pred_cl, c=y, s=100, edgecolors='black')\n",
        "plt.ylabel('pred');plt.xlabel('x')\n",
        "plt.yticks(np.arange(0, 2), ['0 class', '1 class'])\n",
        "plt.ylim(-0.1, 1.1);plt.xlim(-3.5, 2)\n",
        "plt.title('Sklearn VS My')\n",
        "plt.legend();"
      ],
      "metadata": {
        "colab": {
          "base_uri": "https://localhost:8080/",
          "height": 187
        },
        "id": "NAIV1WXc6F-x",
        "outputId": "d903ce96-1a5c-4bb7-86d7-353fc91c8c17"
      },
      "execution_count": null,
      "outputs": [
        {
          "output_type": "display_data",
          "data": {
            "text/plain": [
              "<Figure size 720x144 with 1 Axes>"
            ],
            "image/png": "[encoded data removed]"
          },
          "metadata": {
            "needs_background": "light"
          }
        }
      ]
    },
    {
      "cell_type": "markdown",
      "source": [
        "Составим все данные в одну таблицу:\n",
        "- `X` - это точки, на которых строим модель\n",
        "- `y` - это настоящая целевая переменная, которую хотим предсказать\n",
        "- `pred_model_good` - это значения на линии по координатам `X` первой модели, имеем предсказания модель `LinearRegression`\n",
        "- и `pred_bad_model` - это значения на линии по координатам `X` второй модели, которая создана вручную, а не силами `sklearn`"
      ],
      "metadata": {
        "id": "PK43OAJOJ9nh"
      }
    },
    {
      "cell_type": "code",
      "source": [
        "import pandas as pd\n",
        "\n",
        "df = pd.DataFrame({\n",
        "    'X': np.squeeze(X),\n",
        "    'y': y,\n",
        "    'pred_sk_model': sigmoid(np.squeeze(model_a * X + model_b)),\n",
        "    'pred_my_model': sigmoid(np.squeeze(a * X + b))\n",
        "})\n",
        "\n",
        "\n",
        "df.head()"
      ],
      "metadata": {
        "colab": {
          "base_uri": "https://localhost:8080/",
          "height": 206
        },
        "id": "596LHapcI8Ra",
        "outputId": "d7c764cb-42ea-474d-f08c-0f9c8e1ff418"
      },
      "execution_count": null,
      "outputs": [
        {
          "output_type": "execute_result",
          "data": {
            "text/plain": [
              "          X  y  pred_sk_model  pred_my_model\n",
              "0 -0.761273  0       0.227606       0.013602\n",
              "1 -1.418692  0       0.108508       0.001915\n",
              "2  0.451290  1       0.600835       0.343862\n",
              "3 -0.771116  0       0.225287       0.013212\n",
              "4  0.238207  0       0.530552       0.216636"
            ],
            "text/html": [
              "\n",
              "  <div id=\"df-2fb14c37-00f8-41bc-b223-d3d4a3b57bfb\">\n",
              "    <div class=\"colab-df-container\">\n",
              "      <div>\n",
              "<style scoped>\n",
              "    .dataframe tbody tr th:only-of-type {\n",
              "        vertical-align: middle;\n",
              "    }\n",
              "\n",
              "    .dataframe tbody tr th {\n",
              "        vertical-align: top;\n",
              "    }\n",
              "\n",
              "    .dataframe thead th {\n",
              "        text-align: right;\n",
              "    }\n",
              "</style>\n",
              "<table border=\"1\" class=\"dataframe\">\n",
              "  <thead>\n",
              "    <tr style=\"text-align: right;\">\n",
              "      <th></th>\n",
              "      <th>X</th>\n",
              "      <th>y</th>\n",
              "      <th>pred_sk_model</th>\n",
              "      <th>pred_my_model</th>\n",
              "    </tr>\n",
              "  </thead>\n",
              "  <tbody>\n",
              "    <tr>\n",
              "      <th>0</th>\n",
              "      <td>-0.761273</td>\n",
              "      <td>0</td>\n",
              "      <td>0.227606</td>\n",
              "      <td>0.013602</td>\n",
              "    </tr>\n",
              "    <tr>\n",
              "      <th>1</th>\n",
              "      <td>-1.418692</td>\n",
              "      <td>0</td>\n",
              "      <td>0.108508</td>\n",
              "      <td>0.001915</td>\n",
              "    </tr>\n",
              "    <tr>\n",
              "      <th>2</th>\n",
              "      <td>0.451290</td>\n",
              "      <td>1</td>\n",
              "      <td>0.600835</td>\n",
              "      <td>0.343862</td>\n",
              "    </tr>\n",
              "    <tr>\n",
              "      <th>3</th>\n",
              "      <td>-0.771116</td>\n",
              "      <td>0</td>\n",
              "      <td>0.225287</td>\n",
              "      <td>0.013212</td>\n",
              "    </tr>\n",
              "    <tr>\n",
              "      <th>4</th>\n",
              "      <td>0.238207</td>\n",
              "      <td>0</td>\n",
              "      <td>0.530552</td>\n",
              "      <td>0.216636</td>\n",
              "    </tr>\n",
              "  </tbody>\n",
              "</table>\n",
              "</div>\n",
              "      <button class=\"colab-df-convert\" onclick=\"convertToInteractive('df-2fb14c37-00f8-41bc-b223-d3d4a3b57bfb')\"\n",
              "              title=\"Convert this dataframe to an interactive table.\"\n",
              "              style=\"display:none;\">\n",
              "        \n",
              "  <svg xmlns=\"http://www.w3.org/2000/svg\" height=\"24px\"viewBox=\"0 0 24 24\"\n",
              "       width=\"24px\">\n",
              "    <path d=\"M0 0h24v24H0V0z\" fill=\"none\"/>\n",
              "    <path d=\"M18.56 5.44l.94 2.06.94-2.06 2.06-.94-2.06-.94-.94-2.06-.94 2.06-2.06.94zm-11 1L8.5 8.5l.94-2.06 2.06-.94-2.06-.94L8.5 2.5l-.94 2.06-2.06.94zm10 10l.94 2.06.94-2.06 2.06-.94-2.06-.94-.94-2.06-.94 2.06-2.06.94z\"/><path d=\"M17.41 7.96l-1.37-1.37c-.4-.4-.92-.59-1.43-.59-.52 0-1.04.2-1.43.59L10.3 9.45l-7.72 7.72c-.78.78-.78 2.05 0 2.83L4 21.41c.39.39.9.59 1.41.59.51 0 1.02-.2 1.41-.59l7.78-7.78 2.81-2.81c.8-.78.8-2.07 0-2.86zM5.41 20L4 18.59l7.72-7.72 1.47 1.35L5.41 20z\"/>\n",
              "  </svg>\n",
              "      </button>\n",
              "      \n",
              "  <style>\n",
              "    .colab-df-container {\n",
              "      display:flex;\n",
              "      flex-wrap:wrap;\n",
              "      gap: 12px;\n",
              "    }\n",
              "\n",
              "    .colab-df-convert {\n",
              "      background-color: #E8F0FE;\n",
              "      border: none;\n",
              "      border-radius: 50%;\n",
              "      cursor: pointer;\n",
              "      display: none;\n",
              "      fill: #1967D2;\n",
              "      height: 32px;\n",
              "      padding: 0 0 0 0;\n",
              "      width: 32px;\n",
              "    }\n",
              "\n",
              "    .colab-df-convert:hover {\n",
              "      background-color: #E2EBFA;\n",
              "      box-shadow: 0px 1px 2px rgba(60, 64, 67, 0.3), 0px 1px 3px 1px rgba(60, 64, 67, 0.15);\n",
              "      fill: #174EA6;\n",
              "    }\n",
              "\n",
              "    [theme=dark] .colab-df-convert {\n",
              "      background-color: #3B4455;\n",
              "      fill: #D2E3FC;\n",
              "    }\n",
              "\n",
              "    [theme=dark] .colab-df-convert:hover {\n",
              "      background-color: #434B5C;\n",
              "      box-shadow: 0px 1px 3px 1px rgba(0, 0, 0, 0.15);\n",
              "      filter: drop-shadow(0px 1px 2px rgba(0, 0, 0, 0.3));\n",
              "      fill: #FFFFFF;\n",
              "    }\n",
              "  </style>\n",
              "\n",
              "      <script>\n",
              "        const buttonEl =\n",
              "          document.querySelector('#df-2fb14c37-00f8-41bc-b223-d3d4a3b57bfb button.colab-df-convert');\n",
              "        buttonEl.style.display =\n",
              "          google.colab.kernel.accessAllowed ? 'block' : 'none';\n",
              "\n",
              "        async function convertToInteractive(key) {\n",
              "          const element = document.querySelector('#df-2fb14c37-00f8-41bc-b223-d3d4a3b57bfb');\n",
              "          const dataTable =\n",
              "            await google.colab.kernel.invokeFunction('convertToInteractive',\n",
              "                                                     [key], {});\n",
              "          if (!dataTable) return;\n",
              "\n",
              "          const docLinkHtml = 'Like what you see? Visit the ' +\n",
              "            '<a target=\"_blank\" href=https://colab.research.google.com/notebooks/data_table.ipynb>data table notebook</a>'\n",
              "            + ' to learn more about interactive tables.';\n",
              "          element.innerHTML = '';\n",
              "          dataTable['output_type'] = 'display_data';\n",
              "          await google.colab.output.renderOutput(dataTable, element);\n",
              "          const docLink = document.createElement('div');\n",
              "          docLink.innerHTML = docLinkHtml;\n",
              "          element.appendChild(docLink);\n",
              "        }\n",
              "      </script>\n",
              "    </div>\n",
              "  </div>\n",
              "  "
            ]
          },
          "metadata": {},
          "execution_count": 30
        }
      ]
    },
    {
      "cell_type": "code",
      "source": [
        "df['sk_class'] = (df['pred_sk_model'] > 0.5).astype('int')\n",
        "df['my_class'] = (df['pred_my_model'] > 0.5).astype('int')\n",
        "df.head()"
      ],
      "metadata": {
        "colab": {
          "base_uri": "https://localhost:8080/",
          "height": 206
        },
        "id": "aJBTUWrq5jRW",
        "outputId": "aa92d1aa-7de2-4404-d1ac-17f4eefe3ac9"
      },
      "execution_count": null,
      "outputs": [
        {
          "output_type": "execute_result",
          "data": {
            "text/plain": [
              "          X  y  pred_sk_model  pred_my_model  sk_class  my_class\n",
              "0 -0.761273  0       0.227606       0.013602         0         0\n",
              "1 -1.418692  0       0.108508       0.001915         0         0\n",
              "2  0.451290  1       0.600835       0.343862         1         0\n",
              "3 -0.771116  0       0.225287       0.013212         0         0\n",
              "4  0.238207  0       0.530552       0.216636         1         0"
            ],
            "text/html": [
              "\n",
              "  <div id=\"df-e4a29a54-6e18-43bc-a2c3-73b9964d52eb\">\n",
              "    <div class=\"colab-df-container\">\n",
              "      <div>\n",
              "<style scoped>\n",
              "    .dataframe tbody tr th:only-of-type {\n",
              "        vertical-align: middle;\n",
              "    }\n",
              "\n",
              "    .dataframe tbody tr th {\n",
              "        vertical-align: top;\n",
              "    }\n",
              "\n",
              "    .dataframe thead th {\n",
              "        text-align: right;\n",
              "    }\n",
              "</style>\n",
              "<table border=\"1\" class=\"dataframe\">\n",
              "  <thead>\n",
              "    <tr style=\"text-align: right;\">\n",
              "      <th></th>\n",
              "      <th>X</th>\n",
              "      <th>y</th>\n",
              "      <th>pred_sk_model</th>\n",
              "      <th>pred_my_model</th>\n",
              "      <th>sk_class</th>\n",
              "      <th>my_class</th>\n",
              "    </tr>\n",
              "  </thead>\n",
              "  <tbody>\n",
              "    <tr>\n",
              "      <th>0</th>\n",
              "      <td>-0.761273</td>\n",
              "      <td>0</td>\n",
              "      <td>0.227606</td>\n",
              "      <td>0.013602</td>\n",
              "      <td>0</td>\n",
              "      <td>0</td>\n",
              "    </tr>\n",
              "    <tr>\n",
              "      <th>1</th>\n",
              "      <td>-1.418692</td>\n",
              "      <td>0</td>\n",
              "      <td>0.108508</td>\n",
              "      <td>0.001915</td>\n",
              "      <td>0</td>\n",
              "      <td>0</td>\n",
              "    </tr>\n",
              "    <tr>\n",
              "      <th>2</th>\n",
              "      <td>0.451290</td>\n",
              "      <td>1</td>\n",
              "      <td>0.600835</td>\n",
              "      <td>0.343862</td>\n",
              "      <td>1</td>\n",
              "      <td>0</td>\n",
              "    </tr>\n",
              "    <tr>\n",
              "      <th>3</th>\n",
              "      <td>-0.771116</td>\n",
              "      <td>0</td>\n",
              "      <td>0.225287</td>\n",
              "      <td>0.013212</td>\n",
              "      <td>0</td>\n",
              "      <td>0</td>\n",
              "    </tr>\n",
              "    <tr>\n",
              "      <th>4</th>\n",
              "      <td>0.238207</td>\n",
              "      <td>0</td>\n",
              "      <td>0.530552</td>\n",
              "      <td>0.216636</td>\n",
              "      <td>1</td>\n",
              "      <td>0</td>\n",
              "    </tr>\n",
              "  </tbody>\n",
              "</table>\n",
              "</div>\n",
              "      <button class=\"colab-df-convert\" onclick=\"convertToInteractive('df-e4a29a54-6e18-43bc-a2c3-73b9964d52eb')\"\n",
              "              title=\"Convert this dataframe to an interactive table.\"\n",
              "              style=\"display:none;\">\n",
              "        \n",
              "  <svg xmlns=\"http://www.w3.org/2000/svg\" height=\"24px\"viewBox=\"0 0 24 24\"\n",
              "       width=\"24px\">\n",
              "    <path d=\"M0 0h24v24H0V0z\" fill=\"none\"/>\n",
              "    <path d=\"M18.56 5.44l.94 2.06.94-2.06 2.06-.94-2.06-.94-.94-2.06-.94 2.06-2.06.94zm-11 1L8.5 8.5l.94-2.06 2.06-.94-2.06-.94L8.5 2.5l-.94 2.06-2.06.94zm10 10l.94 2.06.94-2.06 2.06-.94-2.06-.94-.94-2.06-.94 2.06-2.06.94z\"/><path d=\"M17.41 7.96l-1.37-1.37c-.4-.4-.92-.59-1.43-.59-.52 0-1.04.2-1.43.59L10.3 9.45l-7.72 7.72c-.78.78-.78 2.05 0 2.83L4 21.41c.39.39.9.59 1.41.59.51 0 1.02-.2 1.41-.59l7.78-7.78 2.81-2.81c.8-.78.8-2.07 0-2.86zM5.41 20L4 18.59l7.72-7.72 1.47 1.35L5.41 20z\"/>\n",
              "  </svg>\n",
              "      </button>\n",
              "      \n",
              "  <style>\n",
              "    .colab-df-container {\n",
              "      display:flex;\n",
              "      flex-wrap:wrap;\n",
              "      gap: 12px;\n",
              "    }\n",
              "\n",
              "    .colab-df-convert {\n",
              "      background-color: #E8F0FE;\n",
              "      border: none;\n",
              "      border-radius: 50%;\n",
              "      cursor: pointer;\n",
              "      display: none;\n",
              "      fill: #1967D2;\n",
              "      height: 32px;\n",
              "      padding: 0 0 0 0;\n",
              "      width: 32px;\n",
              "    }\n",
              "\n",
              "    .colab-df-convert:hover {\n",
              "      background-color: #E2EBFA;\n",
              "      box-shadow: 0px 1px 2px rgba(60, 64, 67, 0.3), 0px 1px 3px 1px rgba(60, 64, 67, 0.15);\n",
              "      fill: #174EA6;\n",
              "    }\n",
              "\n",
              "    [theme=dark] .colab-df-convert {\n",
              "      background-color: #3B4455;\n",
              "      fill: #D2E3FC;\n",
              "    }\n",
              "\n",
              "    [theme=dark] .colab-df-convert:hover {\n",
              "      background-color: #434B5C;\n",
              "      box-shadow: 0px 1px 3px 1px rgba(0, 0, 0, 0.15);\n",
              "      filter: drop-shadow(0px 1px 2px rgba(0, 0, 0, 0.3));\n",
              "      fill: #FFFFFF;\n",
              "    }\n",
              "  </style>\n",
              "\n",
              "      <script>\n",
              "        const buttonEl =\n",
              "          document.querySelector('#df-e4a29a54-6e18-43bc-a2c3-73b9964d52eb button.colab-df-convert');\n",
              "        buttonEl.style.display =\n",
              "          google.colab.kernel.accessAllowed ? 'block' : 'none';\n",
              "\n",
              "        async function convertToInteractive(key) {\n",
              "          const element = document.querySelector('#df-e4a29a54-6e18-43bc-a2c3-73b9964d52eb');\n",
              "          const dataTable =\n",
              "            await google.colab.kernel.invokeFunction('convertToInteractive',\n",
              "                                                     [key], {});\n",
              "          if (!dataTable) return;\n",
              "\n",
              "          const docLinkHtml = 'Like what you see? Visit the ' +\n",
              "            '<a target=\"_blank\" href=https://colab.research.google.com/notebooks/data_table.ipynb>data table notebook</a>'\n",
              "            + ' to learn more about interactive tables.';\n",
              "          element.innerHTML = '';\n",
              "          dataTable['output_type'] = 'display_data';\n",
              "          await google.colab.output.renderOutput(dataTable, element);\n",
              "          const docLink = document.createElement('div');\n",
              "          docLink.innerHTML = docLinkHtml;\n",
              "          element.appendChild(docLink);\n",
              "        }\n",
              "      </script>\n",
              "    </div>\n",
              "  </div>\n",
              "  "
            ]
          },
          "metadata": {},
          "execution_count": 31
        }
      ]
    },
    {
      "cell_type": "markdown",
      "source": [
        "Посчитаем отклонения предсказаний от истины для каждой модели."
      ],
      "metadata": {
        "id": "Mw9kAfmtK4Pw"
      }
    },
    {
      "cell_type": "code",
      "source": [
        "df.shape[0]"
      ],
      "metadata": {
        "colab": {
          "base_uri": "https://localhost:8080/"
        },
        "id": "PR4OLnSRvD_0",
        "outputId": "8f41ec41-217a-4311-d63d-bfde159af6f3"
      },
      "execution_count": null,
      "outputs": [
        {
          "output_type": "execute_result",
          "data": {
            "text/plain": [
              "25"
            ]
          },
          "metadata": {},
          "execution_count": 32
        }
      ]
    },
    {
      "cell_type": "code",
      "source": [
        "df[df['sk_class'] != df['y']]"
      ],
      "metadata": {
        "colab": {
          "base_uri": "https://localhost:8080/",
          "height": 206
        },
        "id": "s4eMD4u_vHsP",
        "outputId": "a5b9210e-c2f4-45aa-822c-c73ff8f15a15"
      },
      "execution_count": null,
      "outputs": [
        {
          "output_type": "execute_result",
          "data": {
            "text/plain": [
              "           X  y  pred_sk_model  pred_my_model  sk_class  my_class\n",
              "4   0.238207  0       0.530552       0.216636         1         0\n",
              "5   1.718733  0       0.892216       0.959152         1         1\n",
              "8   0.110466  1       0.487642       0.158611         0         0\n",
              "10  0.537601  0       0.628323       0.404392         1         0\n",
              "19  0.100986  1       0.484457       0.154852         0         0"
            ],
            "text/html": [
              "\n",
              "  <div id=\"df-0af0fe1b-ef90-4e57-8b25-43d8e5a947d9\">\n",
              "    <div class=\"colab-df-container\">\n",
              "      <div>\n",
              "<style scoped>\n",
              "    .dataframe tbody tr th:only-of-type {\n",
              "        vertical-align: middle;\n",
              "    }\n",
              "\n",
              "    .dataframe tbody tr th {\n",
              "        vertical-align: top;\n",
              "    }\n",
              "\n",
              "    .dataframe thead th {\n",
              "        text-align: right;\n",
              "    }\n",
              "</style>\n",
              "<table border=\"1\" class=\"dataframe\">\n",
              "  <thead>\n",
              "    <tr style=\"text-align: right;\">\n",
              "      <th></th>\n",
              "      <th>X</th>\n",
              "      <th>y</th>\n",
              "      <th>pred_sk_model</th>\n",
              "      <th>pred_my_model</th>\n",
              "      <th>sk_class</th>\n",
              "      <th>my_class</th>\n",
              "    </tr>\n",
              "  </thead>\n",
              "  <tbody>\n",
              "    <tr>\n",
              "      <th>4</th>\n",
              "      <td>0.238207</td>\n",
              "      <td>0</td>\n",
              "      <td>0.530552</td>\n",
              "      <td>0.216636</td>\n",
              "      <td>1</td>\n",
              "      <td>0</td>\n",
              "    </tr>\n",
              "    <tr>\n",
              "      <th>5</th>\n",
              "      <td>1.718733</td>\n",
              "      <td>0</td>\n",
              "      <td>0.892216</td>\n",
              "      <td>0.959152</td>\n",
              "      <td>1</td>\n",
              "      <td>1</td>\n",
              "    </tr>\n",
              "    <tr>\n",
              "      <th>8</th>\n",
              "      <td>0.110466</td>\n",
              "      <td>1</td>\n",
              "      <td>0.487642</td>\n",
              "      <td>0.158611</td>\n",
              "      <td>0</td>\n",
              "      <td>0</td>\n",
              "    </tr>\n",
              "    <tr>\n",
              "      <th>10</th>\n",
              "      <td>0.537601</td>\n",
              "      <td>0</td>\n",
              "      <td>0.628323</td>\n",
              "      <td>0.404392</td>\n",
              "      <td>1</td>\n",
              "      <td>0</td>\n",
              "    </tr>\n",
              "    <tr>\n",
              "      <th>19</th>\n",
              "      <td>0.100986</td>\n",
              "      <td>1</td>\n",
              "      <td>0.484457</td>\n",
              "      <td>0.154852</td>\n",
              "      <td>0</td>\n",
              "      <td>0</td>\n",
              "    </tr>\n",
              "  </tbody>\n",
              "</table>\n",
              "</div>\n",
              "      <button class=\"colab-df-convert\" onclick=\"convertToInteractive('df-0af0fe1b-ef90-4e57-8b25-43d8e5a947d9')\"\n",
              "              title=\"Convert this dataframe to an interactive table.\"\n",
              "              style=\"display:none;\">\n",
              "        \n",
              "  <svg xmlns=\"http://www.w3.org/2000/svg\" height=\"24px\"viewBox=\"0 0 24 24\"\n",
              "       width=\"24px\">\n",
              "    <path d=\"M0 0h24v24H0V0z\" fill=\"none\"/>\n",
              "    <path d=\"M18.56 5.44l.94 2.06.94-2.06 2.06-.94-2.06-.94-.94-2.06-.94 2.06-2.06.94zm-11 1L8.5 8.5l.94-2.06 2.06-.94-2.06-.94L8.5 2.5l-.94 2.06-2.06.94zm10 10l.94 2.06.94-2.06 2.06-.94-2.06-.94-.94-2.06-.94 2.06-2.06.94z\"/><path d=\"M17.41 7.96l-1.37-1.37c-.4-.4-.92-.59-1.43-.59-.52 0-1.04.2-1.43.59L10.3 9.45l-7.72 7.72c-.78.78-.78 2.05 0 2.83L4 21.41c.39.39.9.59 1.41.59.51 0 1.02-.2 1.41-.59l7.78-7.78 2.81-2.81c.8-.78.8-2.07 0-2.86zM5.41 20L4 18.59l7.72-7.72 1.47 1.35L5.41 20z\"/>\n",
              "  </svg>\n",
              "      </button>\n",
              "      \n",
              "  <style>\n",
              "    .colab-df-container {\n",
              "      display:flex;\n",
              "      flex-wrap:wrap;\n",
              "      gap: 12px;\n",
              "    }\n",
              "\n",
              "    .colab-df-convert {\n",
              "      background-color: #E8F0FE;\n",
              "      border: none;\n",
              "      border-radius: 50%;\n",
              "      cursor: pointer;\n",
              "      display: none;\n",
              "      fill: #1967D2;\n",
              "      height: 32px;\n",
              "      padding: 0 0 0 0;\n",
              "      width: 32px;\n",
              "    }\n",
              "\n",
              "    .colab-df-convert:hover {\n",
              "      background-color: #E2EBFA;\n",
              "      box-shadow: 0px 1px 2px rgba(60, 64, 67, 0.3), 0px 1px 3px 1px rgba(60, 64, 67, 0.15);\n",
              "      fill: #174EA6;\n",
              "    }\n",
              "\n",
              "    [theme=dark] .colab-df-convert {\n",
              "      background-color: #3B4455;\n",
              "      fill: #D2E3FC;\n",
              "    }\n",
              "\n",
              "    [theme=dark] .colab-df-convert:hover {\n",
              "      background-color: #434B5C;\n",
              "      box-shadow: 0px 1px 3px 1px rgba(0, 0, 0, 0.15);\n",
              "      filter: drop-shadow(0px 1px 2px rgba(0, 0, 0, 0.3));\n",
              "      fill: #FFFFFF;\n",
              "    }\n",
              "  </style>\n",
              "\n",
              "      <script>\n",
              "        const buttonEl =\n",
              "          document.querySelector('#df-0af0fe1b-ef90-4e57-8b25-43d8e5a947d9 button.colab-df-convert');\n",
              "        buttonEl.style.display =\n",
              "          google.colab.kernel.accessAllowed ? 'block' : 'none';\n",
              "\n",
              "        async function convertToInteractive(key) {\n",
              "          const element = document.querySelector('#df-0af0fe1b-ef90-4e57-8b25-43d8e5a947d9');\n",
              "          const dataTable =\n",
              "            await google.colab.kernel.invokeFunction('convertToInteractive',\n",
              "                                                     [key], {});\n",
              "          if (!dataTable) return;\n",
              "\n",
              "          const docLinkHtml = 'Like what you see? Visit the ' +\n",
              "            '<a target=\"_blank\" href=https://colab.research.google.com/notebooks/data_table.ipynb>data table notebook</a>'\n",
              "            + ' to learn more about interactive tables.';\n",
              "          element.innerHTML = '';\n",
              "          dataTable['output_type'] = 'display_data';\n",
              "          await google.colab.output.renderOutput(dataTable, element);\n",
              "          const docLink = document.createElement('div');\n",
              "          docLink.innerHTML = docLinkHtml;\n",
              "          element.appendChild(docLink);\n",
              "        }\n",
              "      </script>\n",
              "    </div>\n",
              "  </div>\n",
              "  "
            ]
          },
          "metadata": {},
          "execution_count": 33
        }
      ]
    },
    {
      "cell_type": "code",
      "source": [
        "(df['sk_class'] == df['y']).sum()"
      ],
      "metadata": {
        "colab": {
          "base_uri": "https://localhost:8080/"
        },
        "id": "YeSOjxBjK8I7",
        "outputId": "e6eb67cd-4a5a-4369-dd1b-4d540029f9ed"
      },
      "execution_count": null,
      "outputs": [
        {
          "output_type": "execute_result",
          "data": {
            "text/plain": [
              "20"
            ]
          },
          "metadata": {},
          "execution_count": 34
        }
      ]
    },
    {
      "cell_type": "code",
      "source": [
        "(df['my_class'] == df['y']).sum()"
      ],
      "metadata": {
        "colab": {
          "base_uri": "https://localhost:8080/"
        },
        "id": "qdo4MR2U52Vy",
        "outputId": "b9110b81-c4ac-442e-bbcc-bc852b995830"
      },
      "execution_count": null,
      "outputs": [
        {
          "output_type": "execute_result",
          "data": {
            "text/plain": [
              "17"
            ]
          },
          "metadata": {},
          "execution_count": 35
        }
      ]
    },
    {
      "cell_type": "markdown",
      "source": [
        "### Правдоподобие\n",
        "\n",
        "\n",
        "https://www.kaggle.com/code/dansbecker/what-is-log-loss\n",
        "\n",
        "Правдоподобие (Likelihood) показывает насколько вероятным, по мнению модели, был наблюдаемый набор результатов.\n",
        "\n",
        "<img src='https://miro.medium.com/max/1200/1*jxZFpWtCbD4jHPV0DdDuMA.gif'>"
      ],
      "metadata": {
        "id": "r4Yy92hrKfHz"
      }
    },
    {
      "cell_type": "code",
      "source": [
        "df.head(3)"
      ],
      "metadata": {
        "colab": {
          "base_uri": "https://localhost:8080/",
          "height": 143
        },
        "id": "YsFy36SuSv7a",
        "outputId": "b744ccec-7387-4dad-f0b2-14291b0749fb"
      },
      "execution_count": null,
      "outputs": [
        {
          "output_type": "execute_result",
          "data": {
            "text/plain": [
              "          X  y  pred_sk_model  pred_my_model  sk_class  my_class\n",
              "0 -0.761273  0       0.227606       0.013602         0         0\n",
              "1 -1.418692  0       0.108508       0.001915         0         0\n",
              "2  0.451290  1       0.600835       0.343862         1         0"
            ],
            "text/html": [
              "\n",
              "  <div id=\"df-135b6de9-586c-4684-8f3e-3a1375e05890\">\n",
              "    <div class=\"colab-df-container\">\n",
              "      <div>\n",
              "<style scoped>\n",
              "    .dataframe tbody tr th:only-of-type {\n",
              "        vertical-align: middle;\n",
              "    }\n",
              "\n",
              "    .dataframe tbody tr th {\n",
              "        vertical-align: top;\n",
              "    }\n",
              "\n",
              "    .dataframe thead th {\n",
              "        text-align: right;\n",
              "    }\n",
              "</style>\n",
              "<table border=\"1\" class=\"dataframe\">\n",
              "  <thead>\n",
              "    <tr style=\"text-align: right;\">\n",
              "      <th></th>\n",
              "      <th>X</th>\n",
              "      <th>y</th>\n",
              "      <th>pred_sk_model</th>\n",
              "      <th>pred_my_model</th>\n",
              "      <th>sk_class</th>\n",
              "      <th>my_class</th>\n",
              "    </tr>\n",
              "  </thead>\n",
              "  <tbody>\n",
              "    <tr>\n",
              "      <th>0</th>\n",
              "      <td>-0.761273</td>\n",
              "      <td>0</td>\n",
              "      <td>0.227606</td>\n",
              "      <td>0.013602</td>\n",
              "      <td>0</td>\n",
              "      <td>0</td>\n",
              "    </tr>\n",
              "    <tr>\n",
              "      <th>1</th>\n",
              "      <td>-1.418692</td>\n",
              "      <td>0</td>\n",
              "      <td>0.108508</td>\n",
              "      <td>0.001915</td>\n",
              "      <td>0</td>\n",
              "      <td>0</td>\n",
              "    </tr>\n",
              "    <tr>\n",
              "      <th>2</th>\n",
              "      <td>0.451290</td>\n",
              "      <td>1</td>\n",
              "      <td>0.600835</td>\n",
              "      <td>0.343862</td>\n",
              "      <td>1</td>\n",
              "      <td>0</td>\n",
              "    </tr>\n",
              "  </tbody>\n",
              "</table>\n",
              "</div>\n",
              "      <button class=\"colab-df-convert\" onclick=\"convertToInteractive('df-135b6de9-586c-4684-8f3e-3a1375e05890')\"\n",
              "              title=\"Convert this dataframe to an interactive table.\"\n",
              "              style=\"display:none;\">\n",
              "        \n",
              "  <svg xmlns=\"http://www.w3.org/2000/svg\" height=\"24px\"viewBox=\"0 0 24 24\"\n",
              "       width=\"24px\">\n",
              "    <path d=\"M0 0h24v24H0V0z\" fill=\"none\"/>\n",
              "    <path d=\"M18.56 5.44l.94 2.06.94-2.06 2.06-.94-2.06-.94-.94-2.06-.94 2.06-2.06.94zm-11 1L8.5 8.5l.94-2.06 2.06-.94-2.06-.94L8.5 2.5l-.94 2.06-2.06.94zm10 10l.94 2.06.94-2.06 2.06-.94-2.06-.94-.94-2.06-.94 2.06-2.06.94z\"/><path d=\"M17.41 7.96l-1.37-1.37c-.4-.4-.92-.59-1.43-.59-.52 0-1.04.2-1.43.59L10.3 9.45l-7.72 7.72c-.78.78-.78 2.05 0 2.83L4 21.41c.39.39.9.59 1.41.59.51 0 1.02-.2 1.41-.59l7.78-7.78 2.81-2.81c.8-.78.8-2.07 0-2.86zM5.41 20L4 18.59l7.72-7.72 1.47 1.35L5.41 20z\"/>\n",
              "  </svg>\n",
              "      </button>\n",
              "      \n",
              "  <style>\n",
              "    .colab-df-container {\n",
              "      display:flex;\n",
              "      flex-wrap:wrap;\n",
              "      gap: 12px;\n",
              "    }\n",
              "\n",
              "    .colab-df-convert {\n",
              "      background-color: #E8F0FE;\n",
              "      border: none;\n",
              "      border-radius: 50%;\n",
              "      cursor: pointer;\n",
              "      display: none;\n",
              "      fill: #1967D2;\n",
              "      height: 32px;\n",
              "      padding: 0 0 0 0;\n",
              "      width: 32px;\n",
              "    }\n",
              "\n",
              "    .colab-df-convert:hover {\n",
              "      background-color: #E2EBFA;\n",
              "      box-shadow: 0px 1px 2px rgba(60, 64, 67, 0.3), 0px 1px 3px 1px rgba(60, 64, 67, 0.15);\n",
              "      fill: #174EA6;\n",
              "    }\n",
              "\n",
              "    [theme=dark] .colab-df-convert {\n",
              "      background-color: #3B4455;\n",
              "      fill: #D2E3FC;\n",
              "    }\n",
              "\n",
              "    [theme=dark] .colab-df-convert:hover {\n",
              "      background-color: #434B5C;\n",
              "      box-shadow: 0px 1px 3px 1px rgba(0, 0, 0, 0.15);\n",
              "      filter: drop-shadow(0px 1px 2px rgba(0, 0, 0, 0.3));\n",
              "      fill: #FFFFFF;\n",
              "    }\n",
              "  </style>\n",
              "\n",
              "      <script>\n",
              "        const buttonEl =\n",
              "          document.querySelector('#df-135b6de9-586c-4684-8f3e-3a1375e05890 button.colab-df-convert');\n",
              "        buttonEl.style.display =\n",
              "          google.colab.kernel.accessAllowed ? 'block' : 'none';\n",
              "\n",
              "        async function convertToInteractive(key) {\n",
              "          const element = document.querySelector('#df-135b6de9-586c-4684-8f3e-3a1375e05890');\n",
              "          const dataTable =\n",
              "            await google.colab.kernel.invokeFunction('convertToInteractive',\n",
              "                                                     [key], {});\n",
              "          if (!dataTable) return;\n",
              "\n",
              "          const docLinkHtml = 'Like what you see? Visit the ' +\n",
              "            '<a target=\"_blank\" href=https://colab.research.google.com/notebooks/data_table.ipynb>data table notebook</a>'\n",
              "            + ' to learn more about interactive tables.';\n",
              "          element.innerHTML = '';\n",
              "          dataTable['output_type'] = 'display_data';\n",
              "          await google.colab.output.renderOutput(dataTable, element);\n",
              "          const docLink = document.createElement('div');\n",
              "          docLink.innerHTML = docLinkHtml;\n",
              "          element.appendChild(docLink);\n",
              "        }\n",
              "      </script>\n",
              "    </div>\n",
              "  </div>\n",
              "  "
            ]
          },
          "metadata": {},
          "execution_count": 37
        }
      ]
    },
    {
      "cell_type": "markdown",
      "source": [
        "Предсказания модели [0.22, 0.10, 0.60]. Первые два имеют 0 класс, а третий 1 класс.\n",
        "\n",
        "Для 3-го объекта модель говорит, что с вероятностью 60% он относится к 1 классу. Значит правдоподобие для одной точки 0.60.\n",
        "\n",
        "\n"
      ],
      "metadata": {
        "id": "DqkyZo1bS0Fj"
      }
    },
    {
      "cell_type": "markdown",
      "source": [
        "Для 2 объекта модель говорит, что с вероятностью $10%$ он относится к 1 классу, получается с вероятностью $90%$ он относится к 0 классу, правдоподобие для этой точки $0.90$ и мы его перемножаем с $0.60$.\n",
        "\n",
        "Тоже самое с 1 объектом, вероятность быть 1 классом - $22%$, значит $78%$, что точка принадлежит 0 классу, перемножаем это на $0.78 \\cdot 0.60 \\cdot 0.90$\n"
      ],
      "metadata": {
        "id": "RiD5rVe7TPW0"
      }
    },
    {
      "cell_type": "code",
      "source": [
        "0.78 * 0.60 * 0.90"
      ],
      "metadata": {
        "colab": {
          "base_uri": "https://localhost:8080/"
        },
        "id": "Od1jVEj2UCoy",
        "outputId": "d31840e5-ac9a-4bda-97b9-5008c8d6d69e"
      },
      "execution_count": null,
      "outputs": [
        {
          "output_type": "execute_result",
          "data": {
            "text/plain": [
              "0.42119999999999996"
            ]
          },
          "metadata": {},
          "execution_count": 38
        }
      ]
    },
    {
      "cell_type": "markdown",
      "source": [
        "Теперь сделаем для всех точек"
      ],
      "metadata": {
        "id": "rQkL4ANnLul4"
      }
    },
    {
      "cell_type": "code",
      "source": [
        "likelihood_1 = np.prod(df[df['y'] == 1]['pred_sk_model'])\n",
        "likelihood_1"
      ],
      "metadata": {
        "colab": {
          "base_uri": "https://localhost:8080/"
        },
        "id": "bY96yLqSUghY",
        "outputId": "feb354c2-ec6e-4a13-e7b6-797eca7fb4b8"
      },
      "execution_count": null,
      "outputs": [
        {
          "output_type": "execute_result",
          "data": {
            "text/plain": [
              "0.003618308869915949"
            ]
          },
          "metadata": {},
          "execution_count": 39
        }
      ]
    },
    {
      "cell_type": "code",
      "source": [
        "likelihood_0 = np.prod(1 - df[df['y'] == 0]['pred_sk_model'])\n",
        "likelihood_0"
      ],
      "metadata": {
        "colab": {
          "base_uri": "https://localhost:8080/"
        },
        "id": "djpIaErgUkgq",
        "outputId": "d2d7653f-5cc5-463c-8efe-1c7b1d4289de"
      },
      "execution_count": null,
      "outputs": [
        {
          "output_type": "execute_result",
          "data": {
            "text/plain": [
              "0.001127745959945556"
            ]
          },
          "metadata": {},
          "execution_count": 40
        }
      ]
    },
    {
      "cell_type": "code",
      "source": [
        "likelihood = likelihood_1 * likelihood_0\n",
        "likelihood"
      ],
      "metadata": {
        "colab": {
          "base_uri": "https://localhost:8080/"
        },
        "id": "FtqnPuVOUsXo",
        "outputId": "2d15493e-55ec-46bd-aea8-801e8c69fc87"
      },
      "execution_count": null,
      "outputs": [
        {
          "output_type": "execute_result",
          "data": {
            "text/plain": [
              "4.080533209882882e-06"
            ]
          },
          "metadata": {},
          "execution_count": 41
        }
      ]
    },
    {
      "cell_type": "code",
      "source": [
        "likelihood / df.shape[0]"
      ],
      "metadata": {
        "colab": {
          "base_uri": "https://localhost:8080/"
        },
        "id": "DJb1b6juUyGp",
        "outputId": "b0966fc8-5b5a-40e1-a621-2d3d1ede4013"
      },
      "execution_count": null,
      "outputs": [
        {
          "output_type": "execute_result",
          "data": {
            "text/plain": [
              "1.6322132839531528e-07"
            ]
          },
          "metadata": {},
          "execution_count": 42
        }
      ]
    },
    {
      "cell_type": "code",
      "source": [
        "- np.log(likelihood) / df.shape[0]"
      ],
      "metadata": {
        "colab": {
          "base_uri": "https://localhost:8080/"
        },
        "id": "-yn-5LsRU-tH",
        "outputId": "3113ba6f-99ff-4931-98ee-13c972d49443"
      },
      "execution_count": null,
      "outputs": [
        {
          "output_type": "execute_result",
          "data": {
            "text/plain": [
              "0.49637131557561776"
            ]
          },
          "metadata": {},
          "execution_count": 43
        }
      ]
    },
    {
      "cell_type": "code",
      "source": [
        "from sklearn.metrics import log_loss\n",
        "\n",
        "log_loss(y, df['pred_sk_model'])"
      ],
      "metadata": {
        "colab": {
          "base_uri": "https://localhost:8080/"
        },
        "id": "CM8e8ZxgKtKS",
        "outputId": "61fee112-8abd-48de-9cfb-181df9c5d786"
      },
      "execution_count": null,
      "outputs": [
        {
          "output_type": "execute_result",
          "data": {
            "text/plain": [
              "0.49637131557561776"
            ]
          },
          "metadata": {},
          "execution_count": 44
        }
      ]
    },
    {
      "cell_type": "code",
      "source": [
        "-np.log(np.prod(df[df['y'] == 1]['pred_my_model']) * np.prod(1 - df[df['y'] == 0]['pred_my_model']))  / df.shape[0]"
      ],
      "metadata": {
        "colab": {
          "base_uri": "https://localhost:8080/"
        },
        "id": "2FTuWJN9NIcq",
        "outputId": "4ab11adc-8a99-4e65-9f98-2e6406472547"
      },
      "execution_count": null,
      "outputs": [
        {
          "output_type": "execute_result",
          "data": {
            "text/plain": [
              "0.6310887863810843"
            ]
          },
          "metadata": {},
          "execution_count": 45
        }
      ]
    },
    {
      "cell_type": "code",
      "source": [
        "log_loss(y, df['pred_my_model'])"
      ],
      "metadata": {
        "colab": {
          "base_uri": "https://localhost:8080/"
        },
        "id": "6RdiodUAAMZr",
        "outputId": "10a192a6-c693-4be8-a4f4-f1f099b356b1"
      },
      "execution_count": null,
      "outputs": [
        {
          "output_type": "execute_result",
          "data": {
            "text/plain": [
              "0.6310887863810843"
            ]
          },
          "metadata": {},
          "execution_count": 46
        }
      ]
    },
    {
      "cell_type": "markdown",
      "source": [
        "### Logloss (cross entropy)"
      ],
      "metadata": {
        "id": "TDTk0v0UZgHR"
      }
    },
    {
      "cell_type": "markdown",
      "source": [
        "$$\\prod p_i^{y_i} (1-p_i)^{1-y_i} → max$$"
      ],
      "metadata": {
        "id": "92SQe7JUWYwK"
      }
    },
    {
      "cell_type": "markdown",
      "source": [
        "\n",
        "$ \\log_a{bc} = \\log_a{b} + \\log_a{c}$\n",
        "\n",
        "$$log loss = \\sum (log(p_i)^{y_i} + log(1 - p_i)^{1-y_i})$$\n",
        "\n"
      ],
      "metadata": {
        "id": "LoGLkLoUX2iH"
      }
    },
    {
      "cell_type": "markdown",
      "source": [
        "$ \\log_a{b^c}= c \\cdot \\log_a{b}$\n",
        "\n",
        "$$log loss = - \\frac{1}{n}\\sum (y_i \\cdot log(p_i) + (1-y_i) \\cdot log(1 - p_i)) → min $$"
      ],
      "metadata": {
        "id": "tYj2Va0uVYd3"
      }
    },
    {
      "cell_type": "code",
      "source": [
        "- (np.sum(np.log(df[df['y'] == 1]['pred_sk_model'])) + np.sum(np.log(1 - df[df['y'] == 0]['pred_sk_model']))) / df.shape[0]"
      ],
      "metadata": {
        "colab": {
          "base_uri": "https://localhost:8080/"
        },
        "id": "7MvOg2ZnVzRY",
        "outputId": "c8fc096d-712d-4400-f309-7c8dfb6b5fb5"
      },
      "execution_count": null,
      "outputs": [
        {
          "output_type": "execute_result",
          "data": {
            "text/plain": [
              "0.49637131557561776"
            ]
          },
          "metadata": {},
          "execution_count": 47
        }
      ]
    },
    {
      "cell_type": "code",
      "source": [
        "- (np.sum(np.log(df[df['y'] == 1]['pred_my_model'])) + np.sum(np.log(1 - df[df['y'] == 0]['pred_my_model']))) / df.shape[0]"
      ],
      "metadata": {
        "colab": {
          "base_uri": "https://localhost:8080/"
        },
        "id": "Bw9qVL1-ZSZM",
        "outputId": "877b3b8f-40c9-40ef-ae4e-603c5156f061"
      },
      "execution_count": null,
      "outputs": [
        {
          "output_type": "execute_result",
          "data": {
            "text/plain": [
              "0.6310887863810843"
            ]
          },
          "metadata": {},
          "execution_count": 48
        }
      ]
    },
    {
      "cell_type": "markdown",
      "source": [
        "## Как обучается логистическая регрессия"
      ],
      "metadata": {
        "id": "hikZUrXxsqE4"
      }
    },
    {
      "cell_type": "code",
      "source": [
        "from mpl_toolkits.mplot3d.axes3d import Axes3D\n",
        "\n",
        "\n",
        "def logloss(w1, w0):\n",
        "    y_pred = sigmoid(w1 * X + w0)\n",
        "    return log_loss(y, y_pred)\n",
        "\n",
        "\n",
        "coefs_a = np.linspace(0, 5, num=100)\n",
        "coefs_b = np.linspace(-5, 5, num=100)\n",
        "w1, w0 = np.meshgrid(coefs_a, coefs_b)\n",
        "\n",
        "\n",
        "fig = plt.figure(figsize=(15, 10))\n",
        "ax = fig.add_subplot(111, projection='3d')\n",
        "\n",
        "zs = np.array([logloss(i, j) for i, j in zip(np.ravel(w1), np.ravel(w0))])\n",
        "Z = zs.reshape(w1.shape)\n",
        "\n",
        "ax.plot_surface(w1, w0, Z, alpha=.5)\n",
        "ax.scatter(model_a, model_b, logloss(model_a, model_b), c='r', s=5)\n",
        "ax.scatter(a, b, logloss(a, b), c='r', s=5)\n",
        "\n",
        "ax.set_xlabel(r'$w_1$')\n",
        "ax.set_ylabel(r'$w_0$')\n",
        "ax.set_zlabel('Logloss')\n",
        "\n",
        "plt.show()"
      ],
      "metadata": {
        "colab": {
          "base_uri": "https://localhost:8080/",
          "height": 575
        },
        "id": "MYSGND_5NNii",
        "outputId": "a5aa0ec2-49e9-4c3d-e2c7-f603acb02eb8"
      },
      "execution_count": null,
      "outputs": [
        {
          "output_type": "display_data",
          "data": {
            "text/plain": [
              "<Figure size 1080x720 with 1 Axes>"
            ],
            "image/png": "[encoded data removed]"
          },
          "metadata": {
            "needs_background": "light"
          }
        }
      ]
    },
    {
      "cell_type": "code",
      "source": [
        "X"
      ],
      "metadata": {
        "colab": {
          "base_uri": "https://localhost:8080/"
        },
        "id": "fkdiEh49E4nh",
        "outputId": "83b3730e-4860-4b69-86e4-1ad90e40cbf2"
      },
      "execution_count": null,
      "outputs": [
        {
          "output_type": "execute_result",
          "data": {
            "text/plain": [
              "array([[-0.76127322],\n",
              "       [-1.41869179],\n",
              "       [ 0.45129046],\n",
              "       [-0.77111621],\n",
              "       [ 0.23820651],\n",
              "       [ 1.71873313],\n",
              "       [ 0.41169756],\n",
              "       [-0.82914259],\n",
              "       [ 0.11046641],\n",
              "       [ 0.69649121],\n",
              "       [ 0.53760054],\n",
              "       [-0.587295  ],\n",
              "       [-3.1882251 ],\n",
              "       [ 0.12046015],\n",
              "       [ 1.16915177],\n",
              "       [ 0.41580869],\n",
              "       [-0.2402943 ],\n",
              "       [ 0.93843451],\n",
              "       [ 1.10014328],\n",
              "       [ 0.10098614],\n",
              "       [-1.21878863],\n",
              "       [ 0.27863321],\n",
              "       [ 0.79977834],\n",
              "       [-0.54989369],\n",
              "       [ 0.47683863]])"
            ]
          },
          "metadata": {},
          "execution_count": 52
        }
      ]
    },
    {
      "cell_type": "code",
      "source": [
        "X = np.c_[np.ones_like(X), X]\n",
        "X"
      ],
      "metadata": {
        "colab": {
          "base_uri": "https://localhost:8080/"
        },
        "id": "yRWnKqlQEhc1",
        "outputId": "b9550dfd-4214-4b3e-8170-d6d014fc8aba"
      },
      "execution_count": null,
      "outputs": [
        {
          "output_type": "execute_result",
          "data": {
            "text/plain": [
              "array([[ 1.        , -0.76127322],\n",
              "       [ 1.        , -1.41869179],\n",
              "       [ 1.        ,  0.45129046],\n",
              "       [ 1.        , -0.77111621],\n",
              "       [ 1.        ,  0.23820651],\n",
              "       [ 1.        ,  1.71873313],\n",
              "       [ 1.        ,  0.41169756],\n",
              "       [ 1.        , -0.82914259],\n",
              "       [ 1.        ,  0.11046641],\n",
              "       [ 1.        ,  0.69649121],\n",
              "       [ 1.        ,  0.53760054],\n",
              "       [ 1.        , -0.587295  ],\n",
              "       [ 1.        , -3.1882251 ],\n",
              "       [ 1.        ,  0.12046015],\n",
              "       [ 1.        ,  1.16915177],\n",
              "       [ 1.        ,  0.41580869],\n",
              "       [ 1.        , -0.2402943 ],\n",
              "       [ 1.        ,  0.93843451],\n",
              "       [ 1.        ,  1.10014328],\n",
              "       [ 1.        ,  0.10098614],\n",
              "       [ 1.        , -1.21878863],\n",
              "       [ 1.        ,  0.27863321],\n",
              "       [ 1.        ,  0.79977834],\n",
              "       [ 1.        , -0.54989369],\n",
              "       [ 1.        ,  0.47683863]])"
            ]
          },
          "metadata": {},
          "execution_count": 53
        }
      ]
    },
    {
      "cell_type": "markdown",
      "source": [
        "Реализуем функцию:\n",
        "1. logloss - функция логистической функции потерь (cross entropy) $logloss = - \\frac{1}{n}\\sum (y_i \\cdot log(p_i) + (1-y_i) \\cdot log(1 - p_i))$\n",
        "\n",
        "\n",
        "2. gr_logloss - градиент функции logloss записанные в матричном виде. $X^{T}(\\sigma(XW)-Y)$\n",
        "\n",
        "\n",
        "Если интересно, как он получился, дайте мне знать в комментариях к видео."
      ],
      "metadata": {
        "id": "qPe_CIdRvPcI"
      }
    },
    {
      "cell_type": "code",
      "source": [
        "def sigmoid(x):\n",
        "    return 1 / (1 + np.exp(-x))\n",
        "\n",
        "\n",
        "def logloss(y, y_proba):\n",
        "    logloss_1 = np.sum(np.log(y_proba[y == 1] + 1e-30))\n",
        "    logloss_0 = np.sum(np.log(1 - y_proba[y == 0] + 1e-30))\n",
        "    logloss_total = -(logloss_0 + logloss_1) / len(y)\n",
        "    return logloss_total\n",
        "\n",
        "\n",
        "def gr_logloss(X, W, y):\n",
        "    y_proba = sigmoid(X @ W)\n",
        "    grad = X.T @ (y_proba - y)\n",
        "    return grad"
      ],
      "metadata": {
        "id": "fXl31ElsvPcI"
      },
      "execution_count": null,
      "outputs": []
    },
    {
      "cell_type": "code",
      "source": [
        "test_y     = [1, 0]\n",
        "test_proba = [0, 1]\n",
        "logloss(test_y, test_proba), log_loss(test_y, test_proba)"
      ],
      "metadata": {
        "colab": {
          "base_uri": "https://localhost:8080/"
        },
        "id": "IFyzHgFVH9Ou",
        "outputId": "4e0a5132-50da-4b9d-fb16-47834a58fe0d"
      },
      "execution_count": null,
      "outputs": [
        {
          "output_type": "execute_result",
          "data": {
            "text/plain": [
              "(34.538776394910684, 34.53917619362578)"
            ]
          },
          "metadata": {},
          "execution_count": 59
        }
      ]
    },
    {
      "cell_type": "code",
      "source": [
        "# установка минимального значения, на которое должны изменяться веса\n",
        "eps = 0.0001\n",
        "\n",
        "# первоначальное точка\n",
        "np.random.seed(9)\n",
        "W = np.random.randn(X.shape[1])\n",
        "\n",
        "# размер шага (learning rate)\n",
        "learning_rate = 0.001\n",
        "\n",
        "next_W = W\n",
        "\n",
        "# количество итерация\n",
        "n = 250\n",
        "for i in range(n):\n",
        "    cur_W = next_W\n",
        "\n",
        "    # движение в негативную сторону вычисляемого градиента\n",
        "    next_W = cur_W - learning_rate * gr_logloss(X, W, y)\n",
        "\n",
        "    # остановка когда достигнута необходимая степень точности\n",
        "    if np.linalg.norm(cur_W - next_W) <= eps:\n",
        "        break\n",
        "\n",
        "    if i % 80 == 0:\n",
        "        print(f\"Итерация: {i}\")\n",
        "        # print(f\"Текущая точка {cur_W}| Следующая точка {next_W}\")\n",
        "        y_proba = sigmoid(X @ next_W)\n",
        "        y_class = np.where(y_proba >= 0.5, 1, 0)\n",
        "        accuracy = (y_class == y).sum() / len(y)\n",
        "        print(f\"Logloss {logloss(y, y_proba)}\")\n",
        "        print(f\"Accuracy {accuracy}\")\n",
        "        print(\"--------------------------------------------------------\")\n",
        "\n",
        "        model_grad = next_W @ X.T\n",
        "        plt.figure(figsize=(10, 2))\n",
        "\n",
        "        plt.subplot(121)\n",
        "        plt.plot(X[:, 1], model_grad, linewidth=2, c='r', label='gradient')\n",
        "        plt.scatter(X[:, 1], np.zeros(X.shape[0]), c=y, s=100, edgecolors='black')\n",
        "        plt.ylabel('');plt.xlabel('x')\n",
        "        plt.yticks(np.arange(0, 1), [''])\n",
        "        plt.title(f'Iter {i}')\n",
        "        plt.ylim(-1, 1);plt.xlim(-3.5, 2);\n",
        "\n",
        "\n",
        "        plt.subplot(122)\n",
        "        x_ones = np.c_[np.ones_like(x), x]\n",
        "        model_pred_x = next_W @ x_ones.T\n",
        "\n",
        "        plt.plot(x, sigmoid(model_pred_x), linewidth=2, c='r')\n",
        "        plt.scatter(X[:, 1], sigmoid(model_grad) >= 0.5, c=y, s=100, edgecolors='black')\n",
        "        plt.ylabel('');plt.xlabel('x')\n",
        "        plt.yticks(np.arange(0, 2), ['0 class', '1 class'])\n",
        "        plt.ylim(-0.1, 1.1);plt.xlim(-3.5, 2)\n",
        "        plt.title('Sigmoid');"
      ],
      "metadata": {
        "colab": {
          "base_uri": "https://localhost:8080/",
          "height": 991
        },
        "id": "qyOwUsWZyCrz",
        "outputId": "41ab6296-352e-4007-f97d-96b6a972aff2"
      },
      "execution_count": null,
      "outputs": [
        {
          "output_type": "stream",
          "name": "stdout",
          "text": [
            "Итерация: 0\n",
            "Logloss 0.7809352018720266\n",
            "Accuracy 0.16\n",
            "--------------------------------------------------------\n",
            "Итерация: 80\n",
            "Logloss 0.5979220700310761\n",
            "Accuracy 0.84\n",
            "--------------------------------------------------------\n",
            "Итерация: 160\n",
            "Logloss 0.5122672986031042\n",
            "Accuracy 0.84\n",
            "--------------------------------------------------------\n",
            "Итерация: 240\n",
            "Logloss 0.48223175784563155\n",
            "Accuracy 0.84\n",
            "--------------------------------------------------------\n"
          ]
        },
        {
          "output_type": "display_data",
          "data": {
            "text/plain": [
              "<Figure size 720x144 with 2 Axes>"
            ],
            "image/png": "[encoded data removed]"
          },
          "metadata": {
            "needs_background": "light"
          }
        },
        {
          "output_type": "display_data",
          "data": {
            "text/plain": [
              "<Figure size 720x144 with 2 Axes>"
            ],
            "image/png": "[encoded data removed]"
          },
          "metadata": {
            "needs_background": "light"
          }
        },
        {
          "output_type": "display_data",
          "data": {
            "text/plain": [
              "<Figure size 720x144 with 2 Axes>"
            ],
            "image/png": "[encoded data removed]"
          },
          "metadata": {
            "needs_background": "light"
          }
        },
        {
          "output_type": "display_data",
          "data": {
            "text/plain": [
              "<Figure size 720x144 with 2 Axes>"
            ],
            "image/png": "[encoded data removed]"
          },
          "metadata": {
            "needs_background": "light"
          }
        }
      ]
    },
    {
      "cell_type": "code",
      "source": [
        "model_grad = next_W[1] * x + next_W[0]\n",
        "\n",
        "\n",
        "plt.figure(figsize=(10, 2))\n",
        "plt.plot(x, model_grad, linewidth=2, c='r', label='gradient')\n",
        "plt.plot(x, model_y_sk, linewidth=2, c='g', label='sklearn')\n",
        "plt.scatter(X[:, 1], np.zeros(X.shape[0]), c=y, s=100, edgecolors='black')\n",
        "plt.ylabel('');plt.xlabel('x')\n",
        "plt.yticks(np.arange(0, 1), [''])\n",
        "plt.legend()\n",
        "plt.ylim(-1, 1);plt.xlim(-3.5, 2);"
      ],
      "metadata": {
        "colab": {
          "base_uri": "https://localhost:8080/",
          "height": 171
        },
        "id": "qjocHC4CNbWO",
        "outputId": "5a284df6-e127-4db6-add7-7ad93a7f11d4"
      },
      "execution_count": null,
      "outputs": [
        {
          "output_type": "display_data",
          "data": {
            "text/plain": [
              "<Figure size 720x144 with 1 Axes>"
            ],
            "image/png": "[encoded data removed]"
          },
          "metadata": {
            "needs_background": "light"
          }
        }
      ]
    },
    {
      "cell_type": "code",
      "source": [
        "y_proba = sigmoid(X @ next_W)\n",
        "y_proba"
      ],
      "metadata": {
        "colab": {
          "base_uri": "https://localhost:8080/"
        },
        "id": "lHFQ_Aw1KH8l",
        "outputId": "fba9d53d-3ec8-4e82-a62d-4a2b43f18322"
      },
      "execution_count": null,
      "outputs": [
        {
          "output_type": "execute_result",
          "data": {
            "text/plain": [
              "array([0.17397633, 0.05746958, 0.67451307, 0.17132527, 0.58100106,\n",
              "       0.95765024, 0.65791435, 0.15634526, 0.52149209, 0.76692197,\n",
              "       0.70918156, 0.22624161, 0.00216344, 0.52619232, 0.88916558,\n",
              "       0.65965685, 0.36000043, 0.83851398, 0.87567825, 0.51702983,\n",
              "       0.08163167, 0.59943501, 0.79991558, 0.23882479, 0.68499901])"
            ]
          },
          "metadata": {},
          "execution_count": 62
        }
      ]
    },
    {
      "cell_type": "code",
      "source": [
        "np.where(y_proba > 0.5, 1, 0)"
      ],
      "metadata": {
        "id": "FhZGNFbwZbx2",
        "colab": {
          "base_uri": "https://localhost:8080/"
        },
        "outputId": "dd726411-a0fb-45da-8a76-203dc0e3dfe3"
      },
      "execution_count": null,
      "outputs": [
        {
          "output_type": "execute_result",
          "data": {
            "text/plain": [
              "array([0, 0, 1, 0, 1, 1, 1, 0, 1, 1, 1, 0, 0, 1, 1, 1, 0, 1, 1, 1, 0, 1,\n",
              "       1, 0, 1])"
            ]
          },
          "metadata": {},
          "execution_count": 63
        }
      ]
    },
    {
      "cell_type": "markdown",
      "source": [
        "# Многомерная логистическая регрессия\n",
        "\n",
        "\n"
      ],
      "metadata": {
        "id": "rEmVJTfv_EZ-"
      }
    },
    {
      "cell_type": "code",
      "source": [
        "X, y = make_classification(n_samples=50, n_features=2,\n",
        "                           n_informative=2, n_redundant=0,\n",
        "                           random_state=11)\n",
        "\n",
        "display(X, y)"
      ],
      "metadata": {
        "colab": {
          "base_uri": "https://localhost:8080/",
          "height": 990
        },
        "id": "96dLeOqm_kKq",
        "outputId": "af7d1468-6c66-42fd-d948-212f4922227b"
      },
      "execution_count": null,
      "outputs": [
        {
          "output_type": "display_data",
          "data": {
            "text/plain": [
              "array([[-0.58426249, -0.26304715],\n",
              "       [-0.87385157,  0.03334535],\n",
              "       [-0.83376357,  0.56089118],\n",
              "       [-0.36054172,  1.23330648],\n",
              "       [-0.96996002, -0.51336961],\n",
              "       [ 0.87096085, -1.33644586],\n",
              "       [ 0.88714034, -0.49693129],\n",
              "       [-0.97267638,  1.8062936 ],\n",
              "       [-1.56089158,  0.81454957],\n",
              "       [ 1.05054058, -1.36505594],\n",
              "       [ 0.9851866 , -0.87000251],\n",
              "       [ 1.55985218,  2.83593357],\n",
              "       [ 0.93879173, -0.6224016 ],\n",
              "       [ 0.33585538,  0.73504779],\n",
              "       [-0.93897517,  1.18220327],\n",
              "       [-0.88659662, -0.73309719],\n",
              "       [-0.89879515, -1.59444315],\n",
              "       [ 1.09571977,  2.02411724],\n",
              "       [-1.59503021, -0.40847071],\n",
              "       [-1.17747512,  0.84767099],\n",
              "       [-1.21644763, -1.06794308],\n",
              "       [-1.04836107, -0.67305344],\n",
              "       [-0.94654293, -0.87003831],\n",
              "       [-0.79154717, -0.19781098],\n",
              "       [ 0.94786239,  2.68547589],\n",
              "       [ 1.25268747,  0.85946774],\n",
              "       [-1.21287477, -1.06611934],\n",
              "       [ 1.0820104 , -0.72574433],\n",
              "       [ 3.08649247,  0.38307176],\n",
              "       [-0.47859754, -0.32271778],\n",
              "       [ 1.11698842, -0.03117479],\n",
              "       [-0.46683837,  0.59241164],\n",
              "       [ 0.9604573 , -1.00317719],\n",
              "       [-1.26380008,  0.85651631],\n",
              "       [-1.0894631 , -1.57620408],\n",
              "       [-0.66569615,  1.49855864],\n",
              "       [ 1.07584199, -0.4425138 ],\n",
              "       [-0.96542733,  0.85320442],\n",
              "       [ 2.34684284,  1.63986875],\n",
              "       [ 0.95832501, -0.78588688],\n",
              "       [-1.43484007,  1.91490498],\n",
              "       [ 0.40554346,  2.95419577],\n",
              "       [ 0.94984653, -0.80037199],\n",
              "       [-0.97932642, -1.52513322],\n",
              "       [-0.96810387,  1.07440211],\n",
              "       [ 0.83951878, -0.99929105],\n",
              "       [-1.22563289,  0.83324579],\n",
              "       [ 0.09747225,  0.35072039],\n",
              "       [-1.25992209,  1.62651913],\n",
              "       [ 1.01146489, -1.24309996]])"
            ]
          },
          "metadata": {}
        },
        {
          "output_type": "display_data",
          "data": {
            "text/plain": [
              "array([0, 0, 0, 1, 0, 0, 0, 1, 1, 0, 0, 1, 0, 1, 1, 0, 0, 1, 1, 1, 0, 0,\n",
              "       0, 0, 1, 1, 0, 0, 1, 1, 1, 1, 0, 1, 0, 1, 0, 1, 1, 0, 1, 1, 0, 0,\n",
              "       1, 0, 1, 1, 1, 0])"
            ]
          },
          "metadata": {}
        }
      ]
    },
    {
      "cell_type": "code",
      "source": [
        "plt.figure(figsize=(10, 6))\n",
        "plt.scatter(X[:, 0], X[:, 1], c=y);"
      ],
      "metadata": {
        "colab": {
          "base_uri": "https://localhost:8080/",
          "height": 374
        },
        "id": "V7b6DSZqQpEA",
        "outputId": "3da3d232-6794-4ee1-96e8-42b2600c6e1f"
      },
      "execution_count": null,
      "outputs": [
        {
          "output_type": "display_data",
          "data": {
            "text/plain": [
              "<Figure size 720x432 with 1 Axes>"
            ],
            "image/png": "[encoded data removed]"
          },
          "metadata": {
            "needs_background": "light"
          }
        }
      ]
    },
    {
      "cell_type": "markdown",
      "source": [
        "### Из sklearn"
      ],
      "metadata": {
        "id": "L389l2QmCBeI"
      }
    },
    {
      "cell_type": "markdown",
      "source": [
        "Обучим для начала модель из `sklearn`"
      ],
      "metadata": {
        "id": "SQDLd3sv_ubX"
      }
    },
    {
      "cell_type": "code",
      "source": [
        "model = LogisticRegression()\n",
        "model.fit(X, y)"
      ],
      "metadata": {
        "colab": {
          "base_uri": "https://localhost:8080/"
        },
        "outputId": "c32883c7-38d2-4262-d919-a2ebb2610b8f",
        "id": "3ArQO5TI_qOq"
      },
      "execution_count": null,
      "outputs": [
        {
          "output_type": "execute_result",
          "data": {
            "text/plain": [
              "LogisticRegression()"
            ]
          },
          "metadata": {},
          "execution_count": 66
        }
      ]
    },
    {
      "cell_type": "code",
      "source": [
        "model.coef_, model.intercept_"
      ],
      "metadata": {
        "colab": {
          "base_uri": "https://localhost:8080/"
        },
        "outputId": "8ae98c71-53d2-4b17-ebbb-edeaf751bf86",
        "id": "qsgZhUMk_qOs"
      },
      "execution_count": null,
      "outputs": [
        {
          "output_type": "execute_result",
          "data": {
            "text/plain": [
              "(array([[0.02774742, 2.37815401]]), array([-0.10805746]))"
            ]
          },
          "metadata": {},
          "execution_count": 67
        }
      ]
    },
    {
      "cell_type": "code",
      "source": [
        "model.predict(X[:1])"
      ],
      "metadata": {
        "colab": {
          "base_uri": "https://localhost:8080/"
        },
        "id": "zUGT6x6ucsLj",
        "outputId": "4699eff2-51d6-4f2a-f37b-087e5f196c9c"
      },
      "execution_count": null,
      "outputs": [
        {
          "output_type": "execute_result",
          "data": {
            "text/plain": [
              "array([0])"
            ]
          },
          "metadata": {},
          "execution_count": 68
        }
      ]
    },
    {
      "cell_type": "code",
      "source": [
        "np.sum(model.coef_ * X[0]) + model.intercept_"
      ],
      "metadata": {
        "colab": {
          "base_uri": "https://localhost:8080/"
        },
        "id": "h99wvhpTc4Qk",
        "outputId": "54588620-6913-4133-ea03-88b33d4da537"
      },
      "execution_count": null,
      "outputs": [
        {
          "output_type": "execute_result",
          "data": {
            "text/plain": [
              "array([-0.74983587])"
            ]
          },
          "metadata": {},
          "execution_count": 69
        }
      ]
    },
    {
      "cell_type": "code",
      "source": [
        "df = pd.DataFrame(X)\n",
        "df['y'] = y\n",
        "df['pred_cl'] = model.predict(X)\n",
        "df['pred_proba'] = sigmoid(X.dot(model.coef_.T) + model.intercept_)\n",
        "\n",
        "df.head()"
      ],
      "metadata": {
        "colab": {
          "base_uri": "https://localhost:8080/",
          "height": 206
        },
        "id": "lEyoJKCWAUvz",
        "outputId": "5eb4a277-51cc-43ad-9103-4568555b1584"
      },
      "execution_count": null,
      "outputs": [
        {
          "output_type": "execute_result",
          "data": {
            "text/plain": [
              "          0         1  y  pred_cl  pred_proba\n",
              "0 -0.584262 -0.263047  0        0    0.320857\n",
              "1 -0.873852  0.033345  0        0    0.486752\n",
              "2 -0.833764  0.560891  0        1    0.769004\n",
              "3 -0.360542  1.233306  1        1    0.943477\n",
              "4 -0.969960 -0.513370  0        0    0.204917"
            ],
            "text/html": [
              "\n",
              "  <div id=\"df-bfe8e64e-a48f-40f0-a2ad-ce489f29ea6d\">\n",
              "    <div class=\"colab-df-container\">\n",
              "      <div>\n",
              "<style scoped>\n",
              "    .dataframe tbody tr th:only-of-type {\n",
              "        vertical-align: middle;\n",
              "    }\n",
              "\n",
              "    .dataframe tbody tr th {\n",
              "        vertical-align: top;\n",
              "    }\n",
              "\n",
              "    .dataframe thead th {\n",
              "        text-align: right;\n",
              "    }\n",
              "</style>\n",
              "<table border=\"1\" class=\"dataframe\">\n",
              "  <thead>\n",
              "    <tr style=\"text-align: right;\">\n",
              "      <th></th>\n",
              "      <th>0</th>\n",
              "      <th>1</th>\n",
              "      <th>y</th>\n",
              "      <th>pred_cl</th>\n",
              "      <th>pred_proba</th>\n",
              "    </tr>\n",
              "  </thead>\n",
              "  <tbody>\n",
              "    <tr>\n",
              "      <th>0</th>\n",
              "      <td>-0.584262</td>\n",
              "      <td>-0.263047</td>\n",
              "      <td>0</td>\n",
              "      <td>0</td>\n",
              "      <td>0.320857</td>\n",
              "    </tr>\n",
              "    <tr>\n",
              "      <th>1</th>\n",
              "      <td>-0.873852</td>\n",
              "      <td>0.033345</td>\n",
              "      <td>0</td>\n",
              "      <td>0</td>\n",
              "      <td>0.486752</td>\n",
              "    </tr>\n",
              "    <tr>\n",
              "      <th>2</th>\n",
              "      <td>-0.833764</td>\n",
              "      <td>0.560891</td>\n",
              "      <td>0</td>\n",
              "      <td>1</td>\n",
              "      <td>0.769004</td>\n",
              "    </tr>\n",
              "    <tr>\n",
              "      <th>3</th>\n",
              "      <td>-0.360542</td>\n",
              "      <td>1.233306</td>\n",
              "      <td>1</td>\n",
              "      <td>1</td>\n",
              "      <td>0.943477</td>\n",
              "    </tr>\n",
              "    <tr>\n",
              "      <th>4</th>\n",
              "      <td>-0.969960</td>\n",
              "      <td>-0.513370</td>\n",
              "      <td>0</td>\n",
              "      <td>0</td>\n",
              "      <td>0.204917</td>\n",
              "    </tr>\n",
              "  </tbody>\n",
              "</table>\n",
              "</div>\n",
              "      <button class=\"colab-df-convert\" onclick=\"convertToInteractive('df-bfe8e64e-a48f-40f0-a2ad-ce489f29ea6d')\"\n",
              "              title=\"Convert this dataframe to an interactive table.\"\n",
              "              style=\"display:none;\">\n",
              "        \n",
              "  <svg xmlns=\"http://www.w3.org/2000/svg\" height=\"24px\"viewBox=\"0 0 24 24\"\n",
              "       width=\"24px\">\n",
              "    <path d=\"M0 0h24v24H0V0z\" fill=\"none\"/>\n",
              "    <path d=\"M18.56 5.44l.94 2.06.94-2.06 2.06-.94-2.06-.94-.94-2.06-.94 2.06-2.06.94zm-11 1L8.5 8.5l.94-2.06 2.06-.94-2.06-.94L8.5 2.5l-.94 2.06-2.06.94zm10 10l.94 2.06.94-2.06 2.06-.94-2.06-.94-.94-2.06-.94 2.06-2.06.94z\"/><path d=\"M17.41 7.96l-1.37-1.37c-.4-.4-.92-.59-1.43-.59-.52 0-1.04.2-1.43.59L10.3 9.45l-7.72 7.72c-.78.78-.78 2.05 0 2.83L4 21.41c.39.39.9.59 1.41.59.51 0 1.02-.2 1.41-.59l7.78-7.78 2.81-2.81c.8-.78.8-2.07 0-2.86zM5.41 20L4 18.59l7.72-7.72 1.47 1.35L5.41 20z\"/>\n",
              "  </svg>\n",
              "      </button>\n",
              "      \n",
              "  <style>\n",
              "    .colab-df-container {\n",
              "      display:flex;\n",
              "      flex-wrap:wrap;\n",
              "      gap: 12px;\n",
              "    }\n",
              "\n",
              "    .colab-df-convert {\n",
              "      background-color: #E8F0FE;\n",
              "      border: none;\n",
              "      border-radius: 50%;\n",
              "      cursor: pointer;\n",
              "      display: none;\n",
              "      fill: #1967D2;\n",
              "      height: 32px;\n",
              "      padding: 0 0 0 0;\n",
              "      width: 32px;\n",
              "    }\n",
              "\n",
              "    .colab-df-convert:hover {\n",
              "      background-color: #E2EBFA;\n",
              "      box-shadow: 0px 1px 2px rgba(60, 64, 67, 0.3), 0px 1px 3px 1px rgba(60, 64, 67, 0.15);\n",
              "      fill: #174EA6;\n",
              "    }\n",
              "\n",
              "    [theme=dark] .colab-df-convert {\n",
              "      background-color: #3B4455;\n",
              "      fill: #D2E3FC;\n",
              "    }\n",
              "\n",
              "    [theme=dark] .colab-df-convert:hover {\n",
              "      background-color: #434B5C;\n",
              "      box-shadow: 0px 1px 3px 1px rgba(0, 0, 0, 0.15);\n",
              "      filter: drop-shadow(0px 1px 2px rgba(0, 0, 0, 0.3));\n",
              "      fill: #FFFFFF;\n",
              "    }\n",
              "  </style>\n",
              "\n",
              "      <script>\n",
              "        const buttonEl =\n",
              "          document.querySelector('#df-bfe8e64e-a48f-40f0-a2ad-ce489f29ea6d button.colab-df-convert');\n",
              "        buttonEl.style.display =\n",
              "          google.colab.kernel.accessAllowed ? 'block' : 'none';\n",
              "\n",
              "        async function convertToInteractive(key) {\n",
              "          const element = document.querySelector('#df-bfe8e64e-a48f-40f0-a2ad-ce489f29ea6d');\n",
              "          const dataTable =\n",
              "            await google.colab.kernel.invokeFunction('convertToInteractive',\n",
              "                                                     [key], {});\n",
              "          if (!dataTable) return;\n",
              "\n",
              "          const docLinkHtml = 'Like what you see? Visit the ' +\n",
              "            '<a target=\"_blank\" href=https://colab.research.google.com/notebooks/data_table.ipynb>data table notebook</a>'\n",
              "            + ' to learn more about interactive tables.';\n",
              "          element.innerHTML = '';\n",
              "          dataTable['output_type'] = 'display_data';\n",
              "          await google.colab.output.renderOutput(dataTable, element);\n",
              "          const docLink = document.createElement('div');\n",
              "          docLink.innerHTML = docLinkHtml;\n",
              "          element.appendChild(docLink);\n",
              "        }\n",
              "      </script>\n",
              "    </div>\n",
              "  </div>\n",
              "  "
            ]
          },
          "metadata": {},
          "execution_count": 70
        }
      ]
    },
    {
      "cell_type": "code",
      "source": [
        "(df['y'] == df['pred_cl']).mean()"
      ],
      "metadata": {
        "colab": {
          "base_uri": "https://localhost:8080/"
        },
        "id": "St9k9CTJPzgg",
        "outputId": "22852dc9-5377-4a96-df8f-81e43c27f076"
      },
      "execution_count": null,
      "outputs": [
        {
          "output_type": "execute_result",
          "data": {
            "text/plain": [
              "0.92"
            ]
          },
          "metadata": {},
          "execution_count": 71
        }
      ]
    },
    {
      "cell_type": "code",
      "source": [
        "model.score(X, y)"
      ],
      "metadata": {
        "colab": {
          "base_uri": "https://localhost:8080/"
        },
        "id": "yzZUdyXAP4rv",
        "outputId": "4c53870c-fb4a-43dd-8fbd-987db7262c20"
      },
      "execution_count": null,
      "outputs": [
        {
          "output_type": "execute_result",
          "data": {
            "text/plain": [
              "0.92"
            ]
          },
          "metadata": {},
          "execution_count": 72
        }
      ]
    },
    {
      "cell_type": "code",
      "source": [
        "x_min, x_max = X[:,0].min() - .5, X[:,0].max() + .5\n",
        "y_min, y_max = X[:,1].min() - .5, X[:,1].max() + .5\n",
        "\n",
        "h = .02\n",
        "xx, yy = np.meshgrid(np.arange(x_min, x_max, h), np.arange(y_min, y_max, h))\n",
        "\n",
        "x_t = np.c_[xx.ravel(),yy.ravel()]\n",
        "\n",
        "Z = model.predict(x_t)\n",
        "Z = Z.reshape(xx.shape)\n",
        "\n",
        "plt.figure(1, figsize=(8,8))\n",
        "plt.pcolormesh(xx,yy,Z,cmap=plt.cm.Paired)\n",
        "\n",
        "plt.scatter(X[y == 0][:, 0], X[y == 0][:, 1], edgecolors='k')\n",
        "plt.scatter(X[y == 1][:, 0], X[y == 1][:, 1], edgecolors='k')\n",
        "\n",
        "plt.xlim(xx.min(), xx.max())\n",
        "plt.ylim(yy.min(), yy.max())\n",
        "plt.xticks()\n",
        "plt.show()"
      ],
      "metadata": {
        "colab": {
          "base_uri": "https://localhost:8080/",
          "height": 483
        },
        "id": "ib4mBfQnRZDm",
        "outputId": "a9de00b1-333a-48ac-9e6f-eaa070931447"
      },
      "execution_count": null,
      "outputs": [
        {
          "output_type": "display_data",
          "data": {
            "text/plain": [
              "<Figure size 576x576 with 1 Axes>"
            ],
            "image/png": "[encoded data removed]"
          },
          "metadata": {
            "needs_background": "light"
          }
        }
      ]
    },
    {
      "cell_type": "markdown",
      "source": [
        "### Своя реализация линейной регрессии"
      ],
      "metadata": {
        "id": "Tfem6RubAMjf"
      }
    },
    {
      "cell_type": "code",
      "source": [
        "X = np.c_[np.ones(len(X)), X]\n",
        "X"
      ],
      "metadata": {
        "colab": {
          "base_uri": "https://localhost:8080/"
        },
        "id": "UfV5WZbFQI09",
        "outputId": "e1bcbc79-c325-42af-f2df-9486d685e7ac"
      },
      "execution_count": null,
      "outputs": [
        {
          "output_type": "execute_result",
          "data": {
            "text/plain": [
              "array([[ 1.        , -0.58426249, -0.26304715],\n",
              "       [ 1.        , -0.87385157,  0.03334535],\n",
              "       [ 1.        , -0.83376357,  0.56089118],\n",
              "       [ 1.        , -0.36054172,  1.23330648],\n",
              "       [ 1.        , -0.96996002, -0.51336961],\n",
              "       [ 1.        ,  0.87096085, -1.33644586],\n",
              "       [ 1.        ,  0.88714034, -0.49693129],\n",
              "       [ 1.        , -0.97267638,  1.8062936 ],\n",
              "       [ 1.        , -1.56089158,  0.81454957],\n",
              "       [ 1.        ,  1.05054058, -1.36505594],\n",
              "       [ 1.        ,  0.9851866 , -0.87000251],\n",
              "       [ 1.        ,  1.55985218,  2.83593357],\n",
              "       [ 1.        ,  0.93879173, -0.6224016 ],\n",
              "       [ 1.        ,  0.33585538,  0.73504779],\n",
              "       [ 1.        , -0.93897517,  1.18220327],\n",
              "       [ 1.        , -0.88659662, -0.73309719],\n",
              "       [ 1.        , -0.89879515, -1.59444315],\n",
              "       [ 1.        ,  1.09571977,  2.02411724],\n",
              "       [ 1.        , -1.59503021, -0.40847071],\n",
              "       [ 1.        , -1.17747512,  0.84767099],\n",
              "       [ 1.        , -1.21644763, -1.06794308],\n",
              "       [ 1.        , -1.04836107, -0.67305344],\n",
              "       [ 1.        , -0.94654293, -0.87003831],\n",
              "       [ 1.        , -0.79154717, -0.19781098],\n",
              "       [ 1.        ,  0.94786239,  2.68547589],\n",
              "       [ 1.        ,  1.25268747,  0.85946774],\n",
              "       [ 1.        , -1.21287477, -1.06611934],\n",
              "       [ 1.        ,  1.0820104 , -0.72574433],\n",
              "       [ 1.        ,  3.08649247,  0.38307176],\n",
              "       [ 1.        , -0.47859754, -0.32271778],\n",
              "       [ 1.        ,  1.11698842, -0.03117479],\n",
              "       [ 1.        , -0.46683837,  0.59241164],\n",
              "       [ 1.        ,  0.9604573 , -1.00317719],\n",
              "       [ 1.        , -1.26380008,  0.85651631],\n",
              "       [ 1.        , -1.0894631 , -1.57620408],\n",
              "       [ 1.        , -0.66569615,  1.49855864],\n",
              "       [ 1.        ,  1.07584199, -0.4425138 ],\n",
              "       [ 1.        , -0.96542733,  0.85320442],\n",
              "       [ 1.        ,  2.34684284,  1.63986875],\n",
              "       [ 1.        ,  0.95832501, -0.78588688],\n",
              "       [ 1.        , -1.43484007,  1.91490498],\n",
              "       [ 1.        ,  0.40554346,  2.95419577],\n",
              "       [ 1.        ,  0.94984653, -0.80037199],\n",
              "       [ 1.        , -0.97932642, -1.52513322],\n",
              "       [ 1.        , -0.96810387,  1.07440211],\n",
              "       [ 1.        ,  0.83951878, -0.99929105],\n",
              "       [ 1.        , -1.22563289,  0.83324579],\n",
              "       [ 1.        ,  0.09747225,  0.35072039],\n",
              "       [ 1.        , -1.25992209,  1.62651913],\n",
              "       [ 1.        ,  1.01146489, -1.24309996]])"
            ]
          },
          "metadata": {},
          "execution_count": 74
        }
      ]
    },
    {
      "cell_type": "code",
      "source": [
        "def sigmoid(x):\n",
        "    return 1 / (1 + np.exp(-x))\n",
        "\n",
        "\n",
        "def logloss(y, y_proba):\n",
        "    logloss_1 = np.sum(np.log(y_proba[y == 1] + 1e-30))\n",
        "    logloss_0 = np.sum(np.log(1 - y_proba[y == 0] + 1e-30))\n",
        "    logloss_total = -(logloss_0 + logloss_1) / len(y)\n",
        "    return logloss_total\n",
        "\n",
        "\n",
        "def gr_logloss(X, W, y):\n",
        "    y_proba = sigmoid(X @ W)\n",
        "    grad = X.T @ (y_proba - y)\n",
        "    return grad"
      ],
      "metadata": {
        "id": "_GlN3Fb4CPlC"
      },
      "execution_count": null,
      "outputs": []
    },
    {
      "cell_type": "code",
      "source": [
        "def visualize(W):\n",
        "    x_t_ones = np.c_[np.ones(x_t.shape[0]), x_t]\n",
        "\n",
        "    y_proba = sigmoid(x_t_ones @ W)\n",
        "    Z = np.where(y_proba >= 0.5, 1, 0)\n",
        "\n",
        "    Z = Z.reshape(xx.shape)\n",
        "\n",
        "    plt.figure(1, figsize=(8,8))\n",
        "    plt.pcolormesh(xx,yy,Z,cmap=plt.cm.Paired)\n",
        "\n",
        "    plt.scatter(X[y == 0][:, 1], X[y == 0][:, 2], edgecolors='k')\n",
        "    plt.scatter(X[y == 1][:, 1], X[y == 1][:, 2], edgecolors='k')\n",
        "\n",
        "    plt.xlim(xx.min(), xx.max())\n",
        "    plt.ylim(yy.min(), yy.max())\n",
        "    plt.xticks()\n",
        "    plt.show()"
      ],
      "metadata": {
        "id": "ZDj1qlgn_gCN"
      },
      "execution_count": null,
      "outputs": []
    },
    {
      "cell_type": "code",
      "source": [
        "# установка минимального значения, на которое должны изменяться веса\n",
        "eps = 0.0001\n",
        "\n",
        "# первоначальное точка\n",
        "np.random.seed(8)\n",
        "W = np.random.randn(X.shape[1])\n",
        "\n",
        "# размер шага (learning rate)\n",
        "learning_rate = 0.001\n",
        "\n",
        "next_W = W\n",
        "\n",
        "# количество итерация\n",
        "n = 250\n",
        "for i in range(n):\n",
        "    cur_W = next_W\n",
        "\n",
        "    # движение в негативную сторону вычисляемого градиента\n",
        "    next_W = cur_W - learning_rate * gr_logloss(X, W, y)\n",
        "\n",
        "    # остановка когда достигнута необходимая степень точности\n",
        "    if np.linalg.norm(cur_W - next_W) <= eps:\n",
        "        break\n",
        "\n",
        "    if i % 70 == 0:\n",
        "        print(f\"Итерация: {i}\")\n",
        "        # print(f\"Текущая точка {cur_W}| Следующая точка {next_W}\")\n",
        "        y_proba = sigmoid(X @ next_W)\n",
        "        y_class = np.where(y_proba >= 0.5, 1, 0)\n",
        "        accuracy = (y_class == y).sum() / len(y)\n",
        "        print(f\"Logloss {logloss(y, y_proba)}\")\n",
        "        print(f\"Accuracy {accuracy}\")\n",
        "        print(\"--------------------------------------------------------\")\n",
        "\n",
        "        visualize(next_W)"
      ],
      "metadata": {
        "colab": {
          "base_uri": "https://localhost:8080/",
          "height": 1000
        },
        "id": "hyhZ-Pm_QWTa",
        "outputId": "2a4988a9-feaf-4953-cefb-4bf945847238"
      },
      "execution_count": null,
      "outputs": [
        {
          "output_type": "stream",
          "name": "stdout",
          "text": [
            "Итерация: 0\n",
            "Logloss 2.259021790386789\n",
            "Accuracy 0.14\n",
            "--------------------------------------------------------\n"
          ]
        },
        {
          "output_type": "display_data",
          "data": {
            "text/plain": [
              "<Figure size 576x576 with 1 Axes>"
            ],
            "image/png": "[encoded data removed]"
          },
          "metadata": {
            "needs_background": "light"
          }
        },
        {
          "output_type": "stream",
          "name": "stdout",
          "text": [
            "Итерация: 70\n",
            "Logloss 0.3558220178313083\n",
            "Accuracy 0.92\n",
            "--------------------------------------------------------\n"
          ]
        },
        {
          "output_type": "display_data",
          "data": {
            "text/plain": [
              "<Figure size 576x576 with 1 Axes>"
            ],
            "image/png": "[encoded data removed]"
          },
          "metadata": {
            "needs_background": "light"
          }
        },
        {
          "output_type": "stream",
          "name": "stdout",
          "text": [
            "Итерация: 140\n",
            "Logloss 0.20385651072325695\n",
            "Accuracy 0.9\n",
            "--------------------------------------------------------\n"
          ]
        },
        {
          "output_type": "display_data",
          "data": {
            "text/plain": [
              "<Figure size 576x576 with 1 Axes>"
            ],
            "image/png": "[encoded data removed]"
          },
          "metadata": {
            "needs_background": "light"
          }
        },
        {
          "output_type": "stream",
          "name": "stdout",
          "text": [
            "Итерация: 210\n",
            "Logloss 0.27279613823859705\n",
            "Accuracy 0.88\n",
            "--------------------------------------------------------\n"
          ]
        },
        {
          "output_type": "display_data",
          "data": {
            "text/plain": [
              "<Figure size 576x576 with 1 Axes>"
            ],
            "image/png": "[encoded data removed]"
          },
          "metadata": {
            "needs_background": "light"
          }
        }
      ]
    },
    {
      "cell_type": "code",
      "source": [
        "next_W"
      ],
      "metadata": {
        "id": "iSCKcChtUj6D",
        "outputId": "096c496e-b27d-4614-e4e0-8de5a0f17bb4",
        "colab": {
          "base_uri": "https://localhost:8080/"
        }
      },
      "execution_count": null,
      "outputs": [
        {
          "output_type": "execute_result",
          "data": {
            "text/plain": [
              "array([ 0.38352166, -1.55677194,  9.11878295])"
            ]
          },
          "metadata": {},
          "execution_count": 78
        }
      ]
    },
    {
      "cell_type": "code",
      "source": [
        "visualize(next_W)"
      ],
      "metadata": {
        "colab": {
          "base_uri": "https://localhost:8080/",
          "height": 483
        },
        "id": "XeOSyySHBnfe",
        "outputId": "9cbb9431-d973-4ae3-bb80-2db1880024a3"
      },
      "execution_count": null,
      "outputs": [
        {
          "output_type": "display_data",
          "data": {
            "text/plain": [
              "<Figure size 576x576 with 1 Axes>"
            ],
            "image/png": "[encoded data removed]"
          },
          "metadata": {
            "needs_background": "light"
          }
        }
      ]
    },
    {
      "cell_type": "markdown",
      "source": [
        "## Summary\n",
        "\n",
        "Вот мы и разобрались, как обучается модель логистическая регрессия вручную\n",
        "1. Перешли от линейной регрессии к логистической регрессии\n",
        "1. Осознали, что такое правдоподобие\n",
        "2. Вывели из правдоподобия функцию потерь logloss\n",
        "3. Построили с нуля логистическую регрессию\n",
        "4. Пообучали логистическую регрессию из sklearn\n",
        "5. Визуализировали предсказания логистической регрессии"
      ],
      "metadata": {
        "id": "NLm3MFeQNENl"
      }
    },
    {
      "cell_type": "markdown",
      "source": [
        "Муррр ♥"
      ],
      "metadata": {
        "id": "vlQTlmerl-KD"
      }
    }
  ]
}